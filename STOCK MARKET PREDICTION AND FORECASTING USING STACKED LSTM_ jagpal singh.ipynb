{
 "cells": [
  {
   "cell_type": "code",
   "execution_count": 1,
   "id": "f7009451",
   "metadata": {},
   "outputs": [],
   "source": [
    "import pandas as pd\n",
    "import numpy as np\n",
    "import math\n",
    "import matplotlib.pyplot as plt\n",
    "from sklearn.preprocessing import MinMaxScaler\n",
    "from sklearn.metrics import mean_squared_error\n",
    "%matplotlib inline"
   ]
  },
  {
   "cell_type": "code",
   "execution_count": 2,
   "id": "8f5a9389",
   "metadata": {
    "scrolled": true
   },
   "outputs": [
    {
     "name": "stdout",
     "output_type": "stream",
     "text": [
      "Requirement already satisfied: tensorflow in c:\\users\\dell\\anaconda3\\lib\\site-packages (2.12.0)\n",
      "Requirement already satisfied: tensorflow-intel==2.12.0 in c:\\users\\dell\\anaconda3\\lib\\site-packages (from tensorflow) (2.12.0)\n",
      "Requirement already satisfied: jax>=0.3.15 in c:\\users\\dell\\anaconda3\\lib\\site-packages (from tensorflow-intel==2.12.0->tensorflow) (0.4.10)\n",
      "Requirement already satisfied: setuptools in c:\\users\\dell\\anaconda3\\lib\\site-packages (from tensorflow-intel==2.12.0->tensorflow) (63.4.1)\n",
      "Requirement already satisfied: h5py>=2.9.0 in c:\\users\\dell\\anaconda3\\lib\\site-packages (from tensorflow-intel==2.12.0->tensorflow) (3.7.0)\n",
      "Requirement already satisfied: protobuf!=4.21.0,!=4.21.1,!=4.21.2,!=4.21.3,!=4.21.4,!=4.21.5,<5.0.0dev,>=3.20.3 in c:\\users\\dell\\anaconda3\\lib\\site-packages (from tensorflow-intel==2.12.0->tensorflow) (4.23.1)\n",
      "Requirement already satisfied: wrapt<1.15,>=1.11.0 in c:\\users\\dell\\anaconda3\\lib\\site-packages (from tensorflow-intel==2.12.0->tensorflow) (1.14.1)\n",
      "Requirement already satisfied: absl-py>=1.0.0 in c:\\users\\dell\\anaconda3\\lib\\site-packages (from tensorflow-intel==2.12.0->tensorflow) (1.4.0)\n",
      "Requirement already satisfied: tensorboard<2.13,>=2.12 in c:\\users\\dell\\anaconda3\\lib\\site-packages (from tensorflow-intel==2.12.0->tensorflow) (2.12.3)\n",
      "Requirement already satisfied: gast<=0.4.0,>=0.2.1 in c:\\users\\dell\\anaconda3\\lib\\site-packages (from tensorflow-intel==2.12.0->tensorflow) (0.4.0)\n",
      "Requirement already satisfied: termcolor>=1.1.0 in c:\\users\\dell\\anaconda3\\lib\\site-packages (from tensorflow-intel==2.12.0->tensorflow) (2.3.0)\n",
      "Requirement already satisfied: tensorflow-estimator<2.13,>=2.12.0 in c:\\users\\dell\\anaconda3\\lib\\site-packages (from tensorflow-intel==2.12.0->tensorflow) (2.12.0)\n",
      "Requirement already satisfied: typing-extensions>=3.6.6 in c:\\users\\dell\\anaconda3\\lib\\site-packages (from tensorflow-intel==2.12.0->tensorflow) (4.3.0)\n",
      "Requirement already satisfied: numpy<1.24,>=1.22 in c:\\users\\dell\\anaconda3\\lib\\site-packages (from tensorflow-intel==2.12.0->tensorflow) (1.23.5)\n",
      "Requirement already satisfied: grpcio<2.0,>=1.24.3 in c:\\users\\dell\\anaconda3\\lib\\site-packages (from tensorflow-intel==2.12.0->tensorflow) (1.54.2)\n",
      "Requirement already satisfied: astunparse>=1.6.0 in c:\\users\\dell\\anaconda3\\lib\\site-packages (from tensorflow-intel==2.12.0->tensorflow) (1.6.3)\n",
      "Requirement already satisfied: six>=1.12.0 in c:\\users\\dell\\anaconda3\\lib\\site-packages (from tensorflow-intel==2.12.0->tensorflow) (1.16.0)\n",
      "Requirement already satisfied: flatbuffers>=2.0 in c:\\users\\dell\\anaconda3\\lib\\site-packages (from tensorflow-intel==2.12.0->tensorflow) (23.5.9)\n",
      "Requirement already satisfied: tensorflow-io-gcs-filesystem>=0.23.1 in c:\\users\\dell\\anaconda3\\lib\\site-packages (from tensorflow-intel==2.12.0->tensorflow) (0.31.0)\n",
      "Requirement already satisfied: packaging in c:\\users\\dell\\anaconda3\\lib\\site-packages (from tensorflow-intel==2.12.0->tensorflow) (21.3)\n",
      "Requirement already satisfied: google-pasta>=0.1.1 in c:\\users\\dell\\anaconda3\\lib\\site-packages (from tensorflow-intel==2.12.0->tensorflow) (0.2.0)\n",
      "Requirement already satisfied: opt-einsum>=2.3.2 in c:\\users\\dell\\anaconda3\\lib\\site-packages (from tensorflow-intel==2.12.0->tensorflow) (3.3.0)\n",
      "Requirement already satisfied: libclang>=13.0.0 in c:\\users\\dell\\anaconda3\\lib\\site-packages (from tensorflow-intel==2.12.0->tensorflow) (16.0.0)\n",
      "Requirement already satisfied: keras<2.13,>=2.12.0 in c:\\users\\dell\\anaconda3\\lib\\site-packages (from tensorflow-intel==2.12.0->tensorflow) (2.12.0)\n",
      "Requirement already satisfied: wheel<1.0,>=0.23.0 in c:\\users\\dell\\anaconda3\\lib\\site-packages (from astunparse>=1.6.0->tensorflow-intel==2.12.0->tensorflow) (0.37.1)\n",
      "Requirement already satisfied: scipy>=1.7 in c:\\users\\dell\\anaconda3\\lib\\site-packages (from jax>=0.3.15->tensorflow-intel==2.12.0->tensorflow) (1.9.1)\n",
      "Requirement already satisfied: ml-dtypes>=0.1.0 in c:\\users\\dell\\anaconda3\\lib\\site-packages (from jax>=0.3.15->tensorflow-intel==2.12.0->tensorflow) (0.1.0)\n",
      "Requirement already satisfied: markdown>=2.6.8 in c:\\users\\dell\\anaconda3\\lib\\site-packages (from tensorboard<2.13,>=2.12->tensorflow-intel==2.12.0->tensorflow) (3.3.4)\n",
      "Requirement already satisfied: google-auth-oauthlib<1.1,>=0.5 in c:\\users\\dell\\anaconda3\\lib\\site-packages (from tensorboard<2.13,>=2.12->tensorflow-intel==2.12.0->tensorflow) (1.0.0)\n",
      "Requirement already satisfied: tensorboard-data-server<0.8.0,>=0.7.0 in c:\\users\\dell\\anaconda3\\lib\\site-packages (from tensorboard<2.13,>=2.12->tensorflow-intel==2.12.0->tensorflow) (0.7.0)\n",
      "Requirement already satisfied: werkzeug>=1.0.1 in c:\\users\\dell\\anaconda3\\lib\\site-packages (from tensorboard<2.13,>=2.12->tensorflow-intel==2.12.0->tensorflow) (2.0.3)\n",
      "Requirement already satisfied: google-auth<3,>=1.6.3 in c:\\users\\dell\\anaconda3\\lib\\site-packages (from tensorboard<2.13,>=2.12->tensorflow-intel==2.12.0->tensorflow) (2.18.1)\n",
      "Requirement already satisfied: requests<3,>=2.21.0 in c:\\users\\dell\\anaconda3\\lib\\site-packages (from tensorboard<2.13,>=2.12->tensorflow-intel==2.12.0->tensorflow) (2.28.1)\n",
      "Requirement already satisfied: pyparsing!=3.0.5,>=2.0.2 in c:\\users\\dell\\anaconda3\\lib\\site-packages (from packaging->tensorflow-intel==2.12.0->tensorflow) (3.0.9)\n",
      "Requirement already satisfied: cachetools<6.0,>=2.0.0 in c:\\users\\dell\\anaconda3\\lib\\site-packages (from google-auth<3,>=1.6.3->tensorboard<2.13,>=2.12->tensorflow-intel==2.12.0->tensorflow) (5.3.0)\n",
      "Requirement already satisfied: urllib3<2.0 in c:\\users\\dell\\anaconda3\\lib\\site-packages (from google-auth<3,>=1.6.3->tensorboard<2.13,>=2.12->tensorflow-intel==2.12.0->tensorflow) (1.26.11)\n",
      "Requirement already satisfied: rsa<5,>=3.1.4 in c:\\users\\dell\\anaconda3\\lib\\site-packages (from google-auth<3,>=1.6.3->tensorboard<2.13,>=2.12->tensorflow-intel==2.12.0->tensorflow) (4.9)\n",
      "Requirement already satisfied: pyasn1-modules>=0.2.1 in c:\\users\\dell\\anaconda3\\lib\\site-packages (from google-auth<3,>=1.6.3->tensorboard<2.13,>=2.12->tensorflow-intel==2.12.0->tensorflow) (0.2.8)\n",
      "Requirement already satisfied: requests-oauthlib>=0.7.0 in c:\\users\\dell\\anaconda3\\lib\\site-packages (from google-auth-oauthlib<1.1,>=0.5->tensorboard<2.13,>=2.12->tensorflow-intel==2.12.0->tensorflow) (1.3.1)\n",
      "Requirement already satisfied: certifi>=2017.4.17 in c:\\users\\dell\\anaconda3\\lib\\site-packages (from requests<3,>=2.21.0->tensorboard<2.13,>=2.12->tensorflow-intel==2.12.0->tensorflow) (2022.9.14)\n",
      "Requirement already satisfied: charset-normalizer<3,>=2 in c:\\users\\dell\\anaconda3\\lib\\site-packages (from requests<3,>=2.21.0->tensorboard<2.13,>=2.12->tensorflow-intel==2.12.0->tensorflow) (2.0.4)\n",
      "Requirement already satisfied: idna<4,>=2.5 in c:\\users\\dell\\anaconda3\\lib\\site-packages (from requests<3,>=2.21.0->tensorboard<2.13,>=2.12->tensorflow-intel==2.12.0->tensorflow) (3.3)\n",
      "Requirement already satisfied: pyasn1<0.5.0,>=0.4.6 in c:\\users\\dell\\anaconda3\\lib\\site-packages (from pyasn1-modules>=0.2.1->google-auth<3,>=1.6.3->tensorboard<2.13,>=2.12->tensorflow-intel==2.12.0->tensorflow) (0.4.8)\n",
      "Requirement already satisfied: oauthlib>=3.0.0 in c:\\users\\dell\\anaconda3\\lib\\site-packages (from requests-oauthlib>=0.7.0->google-auth-oauthlib<1.1,>=0.5->tensorboard<2.13,>=2.12->tensorflow-intel==2.12.0->tensorflow) (3.2.2)\n",
      "Note: you may need to restart the kernel to use updated packages.\n"
     ]
    },
    {
     "name": "stderr",
     "output_type": "stream",
     "text": [
      "WARNING: Ignoring invalid distribution -atplotlib (c:\\users\\dell\\anaconda3\\lib\\site-packages)\n",
      "WARNING: Ignoring invalid distribution -atplotlib (c:\\users\\dell\\anaconda3\\lib\\site-packages)\n",
      "WARNING: Ignoring invalid distribution -atplotlib (c:\\users\\dell\\anaconda3\\lib\\site-packages)\n",
      "WARNING: Ignoring invalid distribution -atplotlib (c:\\users\\dell\\anaconda3\\lib\\site-packages)\n",
      "WARNING: Ignoring invalid distribution -atplotlib (c:\\users\\dell\\anaconda3\\lib\\site-packages)\n",
      "WARNING: Ignoring invalid distribution -atplotlib (c:\\users\\dell\\anaconda3\\lib\\site-packages)\n"
     ]
    }
   ],
   "source": [
    "pip install tensorflow"
   ]
  },
  {
   "cell_type": "code",
   "execution_count": 3,
   "id": "087e2eaf",
   "metadata": {},
   "outputs": [],
   "source": [
    "import tensorflow as tf\n",
    "from tensorflow.python.keras.models import Sequential\n",
    "from tensorflow.python.keras.layers import Dense\n",
    "from tensorflow.python.keras.layers import LSTM"
   ]
  },
  {
   "cell_type": "code",
   "execution_count": 4,
   "id": "95b137f6",
   "metadata": {},
   "outputs": [],
   "source": [
    "stock=pd.read_csv(r\"E:\\internship\\NSE-TATAGLOBAL.csv\")"
   ]
  },
  {
   "cell_type": "code",
   "execution_count": 5,
   "id": "68544346",
   "metadata": {},
   "outputs": [
    {
     "data": {
      "text/html": [
       "<div>\n",
       "<style scoped>\n",
       "    .dataframe tbody tr th:only-of-type {\n",
       "        vertical-align: middle;\n",
       "    }\n",
       "\n",
       "    .dataframe tbody tr th {\n",
       "        vertical-align: top;\n",
       "    }\n",
       "\n",
       "    .dataframe thead th {\n",
       "        text-align: right;\n",
       "    }\n",
       "</style>\n",
       "<table border=\"1\" class=\"dataframe\">\n",
       "  <thead>\n",
       "    <tr style=\"text-align: right;\">\n",
       "      <th></th>\n",
       "      <th>Date</th>\n",
       "      <th>Open</th>\n",
       "      <th>High</th>\n",
       "      <th>Low</th>\n",
       "      <th>Last</th>\n",
       "      <th>Close</th>\n",
       "      <th>Total Trade Quantity</th>\n",
       "      <th>Turnover (Lacs)</th>\n",
       "    </tr>\n",
       "  </thead>\n",
       "  <tbody>\n",
       "    <tr>\n",
       "      <th>0</th>\n",
       "      <td>2018-09-28</td>\n",
       "      <td>234.05</td>\n",
       "      <td>235.95</td>\n",
       "      <td>230.20</td>\n",
       "      <td>233.50</td>\n",
       "      <td>233.75</td>\n",
       "      <td>3069914</td>\n",
       "      <td>7162.35</td>\n",
       "    </tr>\n",
       "    <tr>\n",
       "      <th>1</th>\n",
       "      <td>2018-09-27</td>\n",
       "      <td>234.55</td>\n",
       "      <td>236.80</td>\n",
       "      <td>231.10</td>\n",
       "      <td>233.80</td>\n",
       "      <td>233.25</td>\n",
       "      <td>5082859</td>\n",
       "      <td>11859.95</td>\n",
       "    </tr>\n",
       "    <tr>\n",
       "      <th>2</th>\n",
       "      <td>2018-09-26</td>\n",
       "      <td>240.00</td>\n",
       "      <td>240.00</td>\n",
       "      <td>232.50</td>\n",
       "      <td>235.00</td>\n",
       "      <td>234.25</td>\n",
       "      <td>2240909</td>\n",
       "      <td>5248.60</td>\n",
       "    </tr>\n",
       "    <tr>\n",
       "      <th>3</th>\n",
       "      <td>2018-09-25</td>\n",
       "      <td>233.30</td>\n",
       "      <td>236.75</td>\n",
       "      <td>232.00</td>\n",
       "      <td>236.25</td>\n",
       "      <td>236.10</td>\n",
       "      <td>2349368</td>\n",
       "      <td>5503.90</td>\n",
       "    </tr>\n",
       "    <tr>\n",
       "      <th>4</th>\n",
       "      <td>2018-09-24</td>\n",
       "      <td>233.55</td>\n",
       "      <td>239.20</td>\n",
       "      <td>230.75</td>\n",
       "      <td>234.00</td>\n",
       "      <td>233.30</td>\n",
       "      <td>3423509</td>\n",
       "      <td>7999.55</td>\n",
       "    </tr>\n",
       "  </tbody>\n",
       "</table>\n",
       "</div>"
      ],
      "text/plain": [
       "         Date    Open    High     Low    Last   Close  Total Trade Quantity  \\\n",
       "0  2018-09-28  234.05  235.95  230.20  233.50  233.75               3069914   \n",
       "1  2018-09-27  234.55  236.80  231.10  233.80  233.25               5082859   \n",
       "2  2018-09-26  240.00  240.00  232.50  235.00  234.25               2240909   \n",
       "3  2018-09-25  233.30  236.75  232.00  236.25  236.10               2349368   \n",
       "4  2018-09-24  233.55  239.20  230.75  234.00  233.30               3423509   \n",
       "\n",
       "   Turnover (Lacs)  \n",
       "0          7162.35  \n",
       "1         11859.95  \n",
       "2          5248.60  \n",
       "3          5503.90  \n",
       "4          7999.55  "
      ]
     },
     "execution_count": 5,
     "metadata": {},
     "output_type": "execute_result"
    }
   ],
   "source": [
    "stock.head()"
   ]
  },
  {
   "cell_type": "code",
   "execution_count": 6,
   "id": "45dcd9b7",
   "metadata": {},
   "outputs": [
    {
     "data": {
      "text/html": [
       "<div>\n",
       "<style scoped>\n",
       "    .dataframe tbody tr th:only-of-type {\n",
       "        vertical-align: middle;\n",
       "    }\n",
       "\n",
       "    .dataframe tbody tr th {\n",
       "        vertical-align: top;\n",
       "    }\n",
       "\n",
       "    .dataframe thead th {\n",
       "        text-align: right;\n",
       "    }\n",
       "</style>\n",
       "<table border=\"1\" class=\"dataframe\">\n",
       "  <thead>\n",
       "    <tr style=\"text-align: right;\">\n",
       "      <th></th>\n",
       "      <th>Date</th>\n",
       "      <th>Open</th>\n",
       "      <th>High</th>\n",
       "      <th>Low</th>\n",
       "      <th>Last</th>\n",
       "      <th>Close</th>\n",
       "      <th>Total Trade Quantity</th>\n",
       "      <th>Turnover (Lacs)</th>\n",
       "    </tr>\n",
       "  </thead>\n",
       "  <tbody>\n",
       "    <tr>\n",
       "      <th>2030</th>\n",
       "      <td>2010-07-27</td>\n",
       "      <td>117.6</td>\n",
       "      <td>119.50</td>\n",
       "      <td>112.00</td>\n",
       "      <td>118.80</td>\n",
       "      <td>118.65</td>\n",
       "      <td>586100</td>\n",
       "      <td>694.98</td>\n",
       "    </tr>\n",
       "    <tr>\n",
       "      <th>2031</th>\n",
       "      <td>2010-07-26</td>\n",
       "      <td>120.1</td>\n",
       "      <td>121.00</td>\n",
       "      <td>117.10</td>\n",
       "      <td>117.10</td>\n",
       "      <td>117.60</td>\n",
       "      <td>658440</td>\n",
       "      <td>780.01</td>\n",
       "    </tr>\n",
       "    <tr>\n",
       "      <th>2032</th>\n",
       "      <td>2010-07-23</td>\n",
       "      <td>121.8</td>\n",
       "      <td>121.95</td>\n",
       "      <td>120.25</td>\n",
       "      <td>120.35</td>\n",
       "      <td>120.65</td>\n",
       "      <td>281312</td>\n",
       "      <td>340.31</td>\n",
       "    </tr>\n",
       "    <tr>\n",
       "      <th>2033</th>\n",
       "      <td>2010-07-22</td>\n",
       "      <td>120.3</td>\n",
       "      <td>122.00</td>\n",
       "      <td>120.25</td>\n",
       "      <td>120.75</td>\n",
       "      <td>120.90</td>\n",
       "      <td>293312</td>\n",
       "      <td>355.17</td>\n",
       "    </tr>\n",
       "    <tr>\n",
       "      <th>2034</th>\n",
       "      <td>2010-07-21</td>\n",
       "      <td>122.1</td>\n",
       "      <td>123.00</td>\n",
       "      <td>121.05</td>\n",
       "      <td>121.10</td>\n",
       "      <td>121.55</td>\n",
       "      <td>658666</td>\n",
       "      <td>803.56</td>\n",
       "    </tr>\n",
       "  </tbody>\n",
       "</table>\n",
       "</div>"
      ],
      "text/plain": [
       "            Date   Open    High     Low    Last   Close  Total Trade Quantity  \\\n",
       "2030  2010-07-27  117.6  119.50  112.00  118.80  118.65                586100   \n",
       "2031  2010-07-26  120.1  121.00  117.10  117.10  117.60                658440   \n",
       "2032  2010-07-23  121.8  121.95  120.25  120.35  120.65                281312   \n",
       "2033  2010-07-22  120.3  122.00  120.25  120.75  120.90                293312   \n",
       "2034  2010-07-21  122.1  123.00  121.05  121.10  121.55                658666   \n",
       "\n",
       "      Turnover (Lacs)  \n",
       "2030           694.98  \n",
       "2031           780.01  \n",
       "2032           340.31  \n",
       "2033           355.17  \n",
       "2034           803.56  "
      ]
     },
     "execution_count": 6,
     "metadata": {},
     "output_type": "execute_result"
    }
   ],
   "source": [
    "stock.tail()"
   ]
  },
  {
   "cell_type": "code",
   "execution_count": 7,
   "id": "c76292fc",
   "metadata": {},
   "outputs": [
    {
     "name": "stdout",
     "output_type": "stream",
     "text": [
      "<class 'pandas.core.frame.DataFrame'>\n",
      "RangeIndex: 2035 entries, 0 to 2034\n",
      "Data columns (total 8 columns):\n",
      " #   Column                Non-Null Count  Dtype  \n",
      "---  ------                --------------  -----  \n",
      " 0   Date                  2035 non-null   object \n",
      " 1   Open                  2035 non-null   float64\n",
      " 2   High                  2035 non-null   float64\n",
      " 3   Low                   2035 non-null   float64\n",
      " 4   Last                  2035 non-null   float64\n",
      " 5   Close                 2035 non-null   float64\n",
      " 6   Total Trade Quantity  2035 non-null   int64  \n",
      " 7   Turnover (Lacs)       2035 non-null   float64\n",
      "dtypes: float64(6), int64(1), object(1)\n",
      "memory usage: 127.3+ KB\n"
     ]
    }
   ],
   "source": [
    "stock.info()"
   ]
  },
  {
   "cell_type": "code",
   "execution_count": 8,
   "id": "688035bb",
   "metadata": {},
   "outputs": [
    {
     "data": {
      "text/plain": [
       "Date                    0\n",
       "Open                    0\n",
       "High                    0\n",
       "Low                     0\n",
       "Last                    0\n",
       "Close                   0\n",
       "Total Trade Quantity    0\n",
       "Turnover (Lacs)         0\n",
       "dtype: int64"
      ]
     },
     "execution_count": 8,
     "metadata": {},
     "output_type": "execute_result"
    }
   ],
   "source": [
    "stock.isnull().sum()"
   ]
  },
  {
   "cell_type": "code",
   "execution_count": 9,
   "id": "c9c64254",
   "metadata": {},
   "outputs": [
    {
     "data": {
      "text/html": [
       "<div>\n",
       "<style scoped>\n",
       "    .dataframe tbody tr th:only-of-type {\n",
       "        vertical-align: middle;\n",
       "    }\n",
       "\n",
       "    .dataframe tbody tr th {\n",
       "        vertical-align: top;\n",
       "    }\n",
       "\n",
       "    .dataframe thead th {\n",
       "        text-align: right;\n",
       "    }\n",
       "</style>\n",
       "<table border=\"1\" class=\"dataframe\">\n",
       "  <thead>\n",
       "    <tr style=\"text-align: right;\">\n",
       "      <th></th>\n",
       "      <th>count</th>\n",
       "      <th>mean</th>\n",
       "      <th>std</th>\n",
       "      <th>min</th>\n",
       "      <th>25%</th>\n",
       "      <th>50%</th>\n",
       "      <th>75%</th>\n",
       "      <th>max</th>\n",
       "    </tr>\n",
       "  </thead>\n",
       "  <tbody>\n",
       "    <tr>\n",
       "      <th>Open</th>\n",
       "      <td>2035.0</td>\n",
       "      <td>1.497137e+02</td>\n",
       "      <td>4.866451e+01</td>\n",
       "      <td>81.10</td>\n",
       "      <td>120.025</td>\n",
       "      <td>141.50</td>\n",
       "      <td>157.175</td>\n",
       "      <td>327.70</td>\n",
       "    </tr>\n",
       "    <tr>\n",
       "      <th>High</th>\n",
       "      <td>2035.0</td>\n",
       "      <td>1.519928e+02</td>\n",
       "      <td>4.941311e+01</td>\n",
       "      <td>82.80</td>\n",
       "      <td>122.100</td>\n",
       "      <td>143.40</td>\n",
       "      <td>159.400</td>\n",
       "      <td>328.75</td>\n",
       "    </tr>\n",
       "    <tr>\n",
       "      <th>Low</th>\n",
       "      <td>2035.0</td>\n",
       "      <td>1.472939e+02</td>\n",
       "      <td>4.793196e+01</td>\n",
       "      <td>80.00</td>\n",
       "      <td>118.300</td>\n",
       "      <td>139.60</td>\n",
       "      <td>155.150</td>\n",
       "      <td>321.65</td>\n",
       "    </tr>\n",
       "    <tr>\n",
       "      <th>Last</th>\n",
       "      <td>2035.0</td>\n",
       "      <td>1.494743e+02</td>\n",
       "      <td>4.873257e+01</td>\n",
       "      <td>81.00</td>\n",
       "      <td>120.075</td>\n",
       "      <td>141.10</td>\n",
       "      <td>156.925</td>\n",
       "      <td>325.95</td>\n",
       "    </tr>\n",
       "    <tr>\n",
       "      <th>Close</th>\n",
       "      <td>2035.0</td>\n",
       "      <td>1.494503e+02</td>\n",
       "      <td>4.871204e+01</td>\n",
       "      <td>80.95</td>\n",
       "      <td>120.050</td>\n",
       "      <td>141.25</td>\n",
       "      <td>156.900</td>\n",
       "      <td>325.75</td>\n",
       "    </tr>\n",
       "    <tr>\n",
       "      <th>Total Trade Quantity</th>\n",
       "      <td>2035.0</td>\n",
       "      <td>2.335681e+06</td>\n",
       "      <td>2.091778e+06</td>\n",
       "      <td>39610.00</td>\n",
       "      <td>1146444.500</td>\n",
       "      <td>1783456.00</td>\n",
       "      <td>2813594.000</td>\n",
       "      <td>29191015.00</td>\n",
       "    </tr>\n",
       "    <tr>\n",
       "      <th>Turnover (Lacs)</th>\n",
       "      <td>2035.0</td>\n",
       "      <td>3.899981e+03</td>\n",
       "      <td>4.570768e+03</td>\n",
       "      <td>37.04</td>\n",
       "      <td>1427.460</td>\n",
       "      <td>2512.03</td>\n",
       "      <td>4539.015</td>\n",
       "      <td>55755.08</td>\n",
       "    </tr>\n",
       "  </tbody>\n",
       "</table>\n",
       "</div>"
      ],
      "text/plain": [
       "                       count          mean           std       min  \\\n",
       "Open                  2035.0  1.497137e+02  4.866451e+01     81.10   \n",
       "High                  2035.0  1.519928e+02  4.941311e+01     82.80   \n",
       "Low                   2035.0  1.472939e+02  4.793196e+01     80.00   \n",
       "Last                  2035.0  1.494743e+02  4.873257e+01     81.00   \n",
       "Close                 2035.0  1.494503e+02  4.871204e+01     80.95   \n",
       "Total Trade Quantity  2035.0  2.335681e+06  2.091778e+06  39610.00   \n",
       "Turnover (Lacs)       2035.0  3.899981e+03  4.570768e+03     37.04   \n",
       "\n",
       "                              25%         50%          75%          max  \n",
       "Open                      120.025      141.50      157.175       327.70  \n",
       "High                      122.100      143.40      159.400       328.75  \n",
       "Low                       118.300      139.60      155.150       321.65  \n",
       "Last                      120.075      141.10      156.925       325.95  \n",
       "Close                     120.050      141.25      156.900       325.75  \n",
       "Total Trade Quantity  1146444.500  1783456.00  2813594.000  29191015.00  \n",
       "Turnover (Lacs)          1427.460     2512.03     4539.015     55755.08  "
      ]
     },
     "execution_count": 9,
     "metadata": {},
     "output_type": "execute_result"
    }
   ],
   "source": [
    "stock.describe().T"
   ]
  },
  {
   "cell_type": "code",
   "execution_count": 10,
   "id": "7a90e049",
   "metadata": {},
   "outputs": [
    {
     "data": {
      "text/plain": [
       "(2035, 8)"
      ]
     },
     "execution_count": 10,
     "metadata": {},
     "output_type": "execute_result"
    }
   ],
   "source": [
    "stock.shape"
   ]
  },
  {
   "cell_type": "code",
   "execution_count": 11,
   "id": "e4f2ebb6",
   "metadata": {},
   "outputs": [
    {
     "data": {
      "text/plain": [
       "Index(['Date', 'Open', 'High', 'Low', 'Last', 'Close', 'Total Trade Quantity',\n",
       "       'Turnover (Lacs)'],\n",
       "      dtype='object')"
      ]
     },
     "execution_count": 11,
     "metadata": {},
     "output_type": "execute_result"
    }
   ],
   "source": [
    "stock.columns"
   ]
  },
  {
   "cell_type": "code",
   "execution_count": 12,
   "id": "79371a9d",
   "metadata": {},
   "outputs": [
    {
     "data": {
      "text/plain": [
       "0       False\n",
       "1       False\n",
       "2       False\n",
       "3       False\n",
       "4       False\n",
       "        ...  \n",
       "2030    False\n",
       "2031    False\n",
       "2032    False\n",
       "2033    False\n",
       "2034    False\n",
       "Length: 2035, dtype: bool"
      ]
     },
     "execution_count": 12,
     "metadata": {},
     "output_type": "execute_result"
    }
   ],
   "source": [
    "stock.duplicated()\n"
   ]
  },
  {
   "cell_type": "code",
   "execution_count": 13,
   "id": "d3ced03b",
   "metadata": {},
   "outputs": [
    {
     "data": {
      "text/html": [
       "<div>\n",
       "<style scoped>\n",
       "    .dataframe tbody tr th:only-of-type {\n",
       "        vertical-align: middle;\n",
       "    }\n",
       "\n",
       "    .dataframe tbody tr th {\n",
       "        vertical-align: top;\n",
       "    }\n",
       "\n",
       "    .dataframe thead th {\n",
       "        text-align: right;\n",
       "    }\n",
       "</style>\n",
       "<table border=\"1\" class=\"dataframe\">\n",
       "  <thead>\n",
       "    <tr style=\"text-align: right;\">\n",
       "      <th></th>\n",
       "      <th>Open</th>\n",
       "      <th>High</th>\n",
       "      <th>Low</th>\n",
       "      <th>Last</th>\n",
       "      <th>Close</th>\n",
       "      <th>Total Trade Quantity</th>\n",
       "      <th>Turnover (Lacs)</th>\n",
       "    </tr>\n",
       "  </thead>\n",
       "  <tbody>\n",
       "    <tr>\n",
       "      <th>Open</th>\n",
       "      <td>1.000000</td>\n",
       "      <td>0.999015</td>\n",
       "      <td>0.998825</td>\n",
       "      <td>0.997781</td>\n",
       "      <td>0.997840</td>\n",
       "      <td>0.385951</td>\n",
       "      <td>0.612877</td>\n",
       "    </tr>\n",
       "    <tr>\n",
       "      <th>High</th>\n",
       "      <td>0.999015</td>\n",
       "      <td>1.000000</td>\n",
       "      <td>0.998773</td>\n",
       "      <td>0.999155</td>\n",
       "      <td>0.999194</td>\n",
       "      <td>0.406405</td>\n",
       "      <td>0.630589</td>\n",
       "    </tr>\n",
       "    <tr>\n",
       "      <th>Low</th>\n",
       "      <td>0.998825</td>\n",
       "      <td>0.998773</td>\n",
       "      <td>1.000000</td>\n",
       "      <td>0.999051</td>\n",
       "      <td>0.999119</td>\n",
       "      <td>0.380621</td>\n",
       "      <td>0.608502</td>\n",
       "    </tr>\n",
       "    <tr>\n",
       "      <th>Last</th>\n",
       "      <td>0.997781</td>\n",
       "      <td>0.999155</td>\n",
       "      <td>0.999051</td>\n",
       "      <td>1.000000</td>\n",
       "      <td>0.999961</td>\n",
       "      <td>0.399328</td>\n",
       "      <td>0.624584</td>\n",
       "    </tr>\n",
       "    <tr>\n",
       "      <th>Close</th>\n",
       "      <td>0.997840</td>\n",
       "      <td>0.999194</td>\n",
       "      <td>0.999119</td>\n",
       "      <td>0.999961</td>\n",
       "      <td>1.000000</td>\n",
       "      <td>0.398911</td>\n",
       "      <td>0.624213</td>\n",
       "    </tr>\n",
       "    <tr>\n",
       "      <th>Total Trade Quantity</th>\n",
       "      <td>0.385951</td>\n",
       "      <td>0.406405</td>\n",
       "      <td>0.380621</td>\n",
       "      <td>0.399328</td>\n",
       "      <td>0.398911</td>\n",
       "      <td>1.000000</td>\n",
       "      <td>0.926931</td>\n",
       "    </tr>\n",
       "    <tr>\n",
       "      <th>Turnover (Lacs)</th>\n",
       "      <td>0.612877</td>\n",
       "      <td>0.630589</td>\n",
       "      <td>0.608502</td>\n",
       "      <td>0.624584</td>\n",
       "      <td>0.624213</td>\n",
       "      <td>0.926931</td>\n",
       "      <td>1.000000</td>\n",
       "    </tr>\n",
       "  </tbody>\n",
       "</table>\n",
       "</div>"
      ],
      "text/plain": [
       "                          Open      High       Low      Last     Close  \\\n",
       "Open                  1.000000  0.999015  0.998825  0.997781  0.997840   \n",
       "High                  0.999015  1.000000  0.998773  0.999155  0.999194   \n",
       "Low                   0.998825  0.998773  1.000000  0.999051  0.999119   \n",
       "Last                  0.997781  0.999155  0.999051  1.000000  0.999961   \n",
       "Close                 0.997840  0.999194  0.999119  0.999961  1.000000   \n",
       "Total Trade Quantity  0.385951  0.406405  0.380621  0.399328  0.398911   \n",
       "Turnover (Lacs)       0.612877  0.630589  0.608502  0.624584  0.624213   \n",
       "\n",
       "                      Total Trade Quantity  Turnover (Lacs)  \n",
       "Open                              0.385951         0.612877  \n",
       "High                              0.406405         0.630589  \n",
       "Low                               0.380621         0.608502  \n",
       "Last                              0.399328         0.624584  \n",
       "Close                             0.398911         0.624213  \n",
       "Total Trade Quantity              1.000000         0.926931  \n",
       "Turnover (Lacs)                   0.926931         1.000000  "
      ]
     },
     "execution_count": 13,
     "metadata": {},
     "output_type": "execute_result"
    }
   ],
   "source": [
    "stock.corr()"
   ]
  },
  {
   "cell_type": "code",
   "execution_count": 14,
   "id": "701651b1",
   "metadata": {},
   "outputs": [
    {
     "data": {
      "text/plain": [
       "<Axes: >"
      ]
     },
     "execution_count": 14,
     "metadata": {},
     "output_type": "execute_result"
    },
    {
     "data": {
      "image/png": "[encoded data removed]",
      "text/plain": [
       "<Figure size 640x480 with 2 Axes>"
      ]
     },
     "metadata": {},
     "output_type": "display_data"
    }
   ],
   "source": [
    "import seaborn as sns\n",
    "sns.heatmap(stock.corr(), annot=True)"
   ]
  },
  {
   "cell_type": "code",
   "execution_count": 15,
   "id": "85956252",
   "metadata": {},
   "outputs": [],
   "source": [
    "stock_high=stock.reset_index()['High'] # also chose close variable but i chose high variable for 30 days predection."
   ]
  },
  {
   "cell_type": "code",
   "execution_count": 16,
   "id": "dc38f12b",
   "metadata": {},
   "outputs": [
    {
     "data": {
      "text/plain": [
       "(2035,)"
      ]
     },
     "execution_count": 16,
     "metadata": {},
     "output_type": "execute_result"
    }
   ],
   "source": [
    "stock_high.shape"
   ]
  },
  {
   "cell_type": "code",
   "execution_count": 17,
   "id": "de2daa24",
   "metadata": {},
   "outputs": [
    {
     "data": {
      "text/plain": [
       "[<matplotlib.lines.Line2D at 0x29acb56f9a0>]"
      ]
     },
     "execution_count": 17,
     "metadata": {},
     "output_type": "execute_result"
    },
    {
     "data": {
      "image/png": "[encoded data removed]",
      "text/plain": [
       "<Figure size 640x480 with 1 Axes>"
      ]
     },
     "metadata": {},
     "output_type": "display_data"
    }
   ],
   "source": [
    "plt.plot(stock_high)"
   ]
  },
  {
   "cell_type": "code",
   "execution_count": 18,
   "id": "72729794",
   "metadata": {},
   "outputs": [
    {
     "data": {
      "text/plain": [
       "0       235.95\n",
       "1       236.80\n",
       "2       240.00\n",
       "3       236.75\n",
       "4       239.20\n",
       "         ...  \n",
       "2030    119.50\n",
       "2031    121.00\n",
       "2032    121.95\n",
       "2033    122.00\n",
       "2034    123.00\n",
       "Name: High, Length: 2035, dtype: float64"
      ]
     },
     "execution_count": 18,
     "metadata": {},
     "output_type": "execute_result"
    }
   ],
   "source": [
    "stock_high"
   ]
  },
  {
   "cell_type": "markdown",
   "id": "10d1ec45",
   "metadata": {},
   "source": [
    "#### The MinMaxScaler is a data preprocessing technique commonly used when working with LSTM models. LSTM models are sensitive to the scale of the input data, and using the MinMaxScaler helps to normalize the data and bring it within a specific range, typically between 0 and 1."
   ]
  },
  {
   "cell_type": "code",
   "execution_count": 19,
   "id": "16b67d25",
   "metadata": {},
   "outputs": [],
   "source": [
    "from sklearn.preprocessing import MinMaxScaler\n",
    "scaler = MinMaxScaler(feature_range = (0,1))\n",
    "stock_high = scaler.fit_transform(np.array(stock_high).reshape(-1,1))"
   ]
  },
  {
   "cell_type": "code",
   "execution_count": 20,
   "id": "9d5e3dcd",
   "metadata": {},
   "outputs": [
    {
     "name": "stdout",
     "output_type": "stream",
     "text": [
      "[[0.62268754]\n",
      " [0.62614353]\n",
      " [0.6391543 ]\n",
      " ...\n",
      " [0.15917869]\n",
      " [0.15938199]\n",
      " [0.16344786]]\n"
     ]
    }
   ],
   "source": [
    "print(stock_high)"
   ]
  },
  {
   "cell_type": "code",
   "execution_count": 21,
   "id": "976fcfc5",
   "metadata": {},
   "outputs": [
    {
     "data": {
      "text/plain": [
       "(2035, 1)"
      ]
     },
     "execution_count": 21,
     "metadata": {},
     "output_type": "execute_result"
    }
   ],
   "source": [
    "stock_high.shape"
   ]
  },
  {
   "cell_type": "code",
   "execution_count": 22,
   "id": "e2de15c6",
   "metadata": {},
   "outputs": [],
   "source": [
    "#Split the data into train and test split\n",
    "training_size = int(len(stock_high) * 0.75)\n",
    "test_size = len(stock_high) - training_size\n",
    "train_data,test_data = stock_high[0:training_size,:], stock_high[training_size:len(stock_high),:1]"
   ]
  },
  {
   "cell_type": "code",
   "execution_count": 23,
   "id": "6a6e64c6",
   "metadata": {},
   "outputs": [
    {
     "data": {
      "text/plain": [
       "(1526, 509)"
      ]
     },
     "execution_count": 23,
     "metadata": {},
     "output_type": "execute_result"
    }
   ],
   "source": [
    "training_size, test_size"
   ]
  },
  {
   "cell_type": "code",
   "execution_count": 24,
   "id": "a05773ca",
   "metadata": {},
   "outputs": [],
   "source": [
    "# convert an array of values into a dataset matrix\n",
    "def create_dataset(dataset, time_step=1):\n",
    "    dataX, dataY = [], []\n",
    "    for i in range(len(dataset)-time_step-1):\n",
    "        a = dataset[i:(i+time_step), 0]  \n",
    "        dataX.append(a)\n",
    "        dataY.append(dataset[i + time_step, 0])\n",
    "    return np.array(dataX), np.array(dataY)"
   ]
  },
  {
   "cell_type": "code",
   "execution_count": 25,
   "id": "d4d41bc9",
   "metadata": {},
   "outputs": [],
   "source": [
    "time_step = 100\n",
    "x_train, y_train = create_dataset(train_data, time_step)\n",
    "x_test, y_test = create_dataset(test_data, time_step)"
   ]
  },
  {
   "cell_type": "code",
   "execution_count": 26,
   "id": "c5c5b6d5",
   "metadata": {},
   "outputs": [
    {
     "name": "stdout",
     "output_type": "stream",
     "text": [
      "[[0.62268754 0.62614353 0.6391543  ... 0.85464525 0.86013417 0.86765603]\n",
      " [0.62614353 0.6391543  0.62594023 ... 0.86013417 0.86765603 0.86480992]\n",
      " [0.6391543  0.62594023 0.63590161 ... 0.86765603 0.86480992 0.84854645]\n",
      " ...\n",
      " [0.3210002  0.32384631 0.3240496  ... 0.1955682  0.20227689 0.20105713]\n",
      " [0.32384631 0.3240496  0.3240496  ... 0.20227689 0.20105713 0.1955682 ]\n",
      " [0.3240496  0.3240496  0.32445619 ... 0.20105713 0.1955682  0.18906282]]\n"
     ]
    }
   ],
   "source": [
    "print(x_train)"
   ]
  },
  {
   "cell_type": "code",
   "execution_count": 27,
   "id": "9571e40c",
   "metadata": {},
   "outputs": [
    {
     "name": "stdout",
     "output_type": "stream",
     "text": [
      "(408, 100)\n",
      "(408,)\n"
     ]
    }
   ],
   "source": [
    "print(x_test.shape)\n",
    "print(y_test.shape)"
   ]
  },
  {
   "cell_type": "code",
   "execution_count": 28,
   "id": "5f28b37a",
   "metadata": {},
   "outputs": [
    {
     "name": "stdout",
     "output_type": "stream",
     "text": [
      "(1425, 100)\n",
      "(1425,)\n"
     ]
    }
   ],
   "source": [
    "print(x_train.shape)\n",
    "print(y_train.shape)"
   ]
  },
  {
   "cell_type": "code",
   "execution_count": 29,
   "id": "082ce24d",
   "metadata": {},
   "outputs": [],
   "source": [
    "#Reshape the input to be [samples, time steps, features] which is the requirement of LSTM\n",
    "x_train = x_train.reshape(x_train.shape[0], x_train.shape[1], 1)\n",
    "x_test = x_test.reshape(x_test.shape[0], x_test.shape[1], 1)"
   ]
  },
  {
   "cell_type": "code",
   "execution_count": 30,
   "id": "28f88f32",
   "metadata": {},
   "outputs": [
    {
     "name": "stdout",
     "output_type": "stream",
     "text": [
      "(1425, 100, 1)\n",
      "(1425,)\n"
     ]
    },
    {
     "data": {
      "text/plain": [
       "(None, None)"
      ]
     },
     "execution_count": 30,
     "metadata": {},
     "output_type": "execute_result"
    }
   ],
   "source": [
    "print(x_train.shape), print(y_train.shape)\n"
   ]
  },
  {
   "cell_type": "code",
   "execution_count": 31,
   "id": "8e8bf307",
   "metadata": {},
   "outputs": [
    {
     "name": "stdout",
     "output_type": "stream",
     "text": [
      "(408, 100, 1)\n",
      "(408,)\n"
     ]
    },
    {
     "data": {
      "text/plain": [
       "(None, None)"
      ]
     },
     "execution_count": 31,
     "metadata": {},
     "output_type": "execute_result"
    }
   ],
   "source": [
    "print(x_test.shape), print(y_test.shape)"
   ]
  },
  {
   "cell_type": "markdown",
   "id": "b3f9e48f",
   "metadata": {},
   "source": [
    "### Create the Stacked LSTM model"
   ]
  },
  {
   "cell_type": "code",
   "execution_count": 32,
   "id": "7924fd99",
   "metadata": {},
   "outputs": [],
   "source": [
    "model = Sequential()\n",
    "model.add(LSTM(50, return_sequences = True, input_shape = (100,1)))\n",
    "model.add(LSTM(50, return_sequences = True))\n",
    "model.add(LSTM(50))\n",
    "model.add(Dense(1))\n",
    "model.compile(loss = 'mean_squared_error', optimizer = 'adam')"
   ]
  },
  {
   "cell_type": "code",
   "execution_count": 33,
   "id": "572b26f5",
   "metadata": {},
   "outputs": [
    {
     "name": "stdout",
     "output_type": "stream",
     "text": [
      "Model: \"sequential\"\n",
      "_________________________________________________________________\n",
      "Layer (type)                 Output Shape              Param #   \n",
      "=================================================================\n",
      "lstm (LSTM)                  (None, 100, 50)           10400     \n",
      "_________________________________________________________________\n",
      "lstm_1 (LSTM)                (None, 100, 50)           20200     \n",
      "_________________________________________________________________\n",
      "lstm_2 (LSTM)                (None, 50)                20200     \n",
      "_________________________________________________________________\n",
      "dense (Dense)                (None, 1)                 51        \n",
      "=================================================================\n",
      "Total params: 50,851\n",
      "Trainable params: 50,851\n",
      "Non-trainable params: 0\n",
      "_________________________________________________________________\n"
     ]
    }
   ],
   "source": [
    "model.summary()"
   ]
  },
  {
   "cell_type": "markdown",
   "id": "a7b563b3",
   "metadata": {},
   "source": [
    "#### Increasing the number of epochs allows the model to potentially learn more from the data but can also increase the risk of overfitting if not properly controlled"
   ]
  },
  {
   "cell_type": "code",
   "execution_count": 34,
   "id": "5018515a",
   "metadata": {
    "scrolled": false
   },
   "outputs": [
    {
     "name": "stdout",
     "output_type": "stream",
     "text": [
      "Epoch 1/100\n",
      "23/23 [==============================] - 12s 238ms/step - loss: 0.0239 - val_loss: 0.0112\n",
      "Epoch 2/100\n",
      "23/23 [==============================] - 5s 202ms/step - loss: 0.0030 - val_loss: 8.2178e-04\n",
      "Epoch 3/100\n",
      "23/23 [==============================] - 4s 185ms/step - loss: 0.0017 - val_loss: 0.0013\n",
      "Epoch 4/100\n",
      "23/23 [==============================] - 5s 213ms/step - loss: 0.0015 - val_loss: 0.0012\n",
      "Epoch 5/100\n",
      "23/23 [==============================] - 6s 275ms/step - loss: 0.0015 - val_loss: 0.0014\n",
      "Epoch 6/100\n",
      "23/23 [==============================] - 6s 242ms/step - loss: 0.0014 - val_loss: 0.0011\n",
      "Epoch 7/100\n",
      "23/23 [==============================] - 5s 214ms/step - loss: 0.0013 - val_loss: 0.0011\n",
      "Epoch 8/100\n",
      "23/23 [==============================] - 4s 195ms/step - loss: 0.0012 - val_loss: 0.0012\n",
      "Epoch 9/100\n",
      "23/23 [==============================] - 4s 195ms/step - loss: 0.0012 - val_loss: 0.0011\n",
      "Epoch 10/100\n",
      "23/23 [==============================] - 4s 196ms/step - loss: 0.0012 - val_loss: 0.0012\n",
      "Epoch 11/100\n",
      "23/23 [==============================] - 4s 195ms/step - loss: 0.0010 - val_loss: 9.5185e-04\n",
      "Epoch 12/100\n",
      "23/23 [==============================] - 5s 210ms/step - loss: 9.6253e-04 - val_loss: 6.8234e-04\n",
      "Epoch 13/100\n",
      "23/23 [==============================] - 5s 203ms/step - loss: 0.0013 - val_loss: 8.8218e-04\n",
      "Epoch 14/100\n",
      "23/23 [==============================] - 5s 197ms/step - loss: 0.0012 - val_loss: 7.5712e-04\n",
      "Epoch 15/100\n",
      "23/23 [==============================] - 4s 196ms/step - loss: 0.0010 - val_loss: 8.8547e-04\n",
      "Epoch 16/100\n",
      "23/23 [==============================] - 5s 214ms/step - loss: 8.5056e-04 - val_loss: 8.4902e-04\n",
      "Epoch 17/100\n",
      "23/23 [==============================] - 5s 208ms/step - loss: 7.8095e-04 - val_loss: 7.9295e-04\n",
      "Epoch 18/100\n",
      "23/23 [==============================] - 5s 215ms/step - loss: 7.6144e-04 - val_loss: 7.2376e-04\n",
      "Epoch 19/100\n",
      "23/23 [==============================] - 5s 194ms/step - loss: 7.3039e-04 - val_loss: 7.0112e-04\n",
      "Epoch 20/100\n",
      "23/23 [==============================] - 4s 197ms/step - loss: 7.4022e-04 - val_loss: 6.0769e-04\n",
      "Epoch 21/100\n",
      "23/23 [==============================] - 5s 234ms/step - loss: 7.2437e-04 - val_loss: 6.4730e-04\n",
      "Epoch 22/100\n",
      "23/23 [==============================] - 5s 198ms/step - loss: 7.7464e-04 - val_loss: 6.8041e-04\n",
      "Epoch 23/100\n",
      "23/23 [==============================] - 5s 203ms/step - loss: 6.5594e-04 - val_loss: 8.3357e-04\n",
      "Epoch 24/100\n",
      "23/23 [==============================] - 5s 232ms/step - loss: 6.5061e-04 - val_loss: 7.3959e-04\n",
      "Epoch 25/100\n",
      "23/23 [==============================] - 5s 200ms/step - loss: 6.4233e-04 - val_loss: 6.2041e-04\n",
      "Epoch 26/100\n",
      "23/23 [==============================] - 4s 195ms/step - loss: 7.1749e-04 - val_loss: 7.4455e-04\n",
      "Epoch 27/100\n",
      "23/23 [==============================] - 5s 198ms/step - loss: 7.1583e-04 - val_loss: 7.2518e-04\n",
      "Epoch 28/100\n",
      "23/23 [==============================] - 5s 197ms/step - loss: 7.2112e-04 - val_loss: 6.7432e-04\n",
      "Epoch 29/100\n",
      "23/23 [==============================] - 5s 197ms/step - loss: 5.9739e-04 - val_loss: 8.5247e-04\n",
      "Epoch 30/100\n",
      "23/23 [==============================] - 5s 197ms/step - loss: 6.6152e-04 - val_loss: 6.3548e-04\n",
      "Epoch 31/100\n",
      "23/23 [==============================] - 5s 197ms/step - loss: 5.5702e-04 - val_loss: 7.6658e-04\n",
      "Epoch 32/100\n",
      "23/23 [==============================] - 7s 327ms/step - loss: 5.4918e-04 - val_loss: 4.9327e-04\n",
      "Epoch 33/100\n",
      "23/23 [==============================] - 8s 334ms/step - loss: 5.9997e-04 - val_loss: 7.0457e-04\n",
      "Epoch 34/100\n",
      "23/23 [==============================] - 4s 177ms/step - loss: 6.1787e-04 - val_loss: 6.0919e-04\n",
      "Epoch 35/100\n",
      "23/23 [==============================] - 4s 169ms/step - loss: 5.2732e-04 - val_loss: 5.2315e-04\n",
      "Epoch 36/100\n",
      "23/23 [==============================] - 5s 217ms/step - loss: 5.2252e-04 - val_loss: 7.0216e-04\n",
      "Epoch 37/100\n",
      "23/23 [==============================] - 5s 239ms/step - loss: 5.1218e-04 - val_loss: 7.3550e-04\n",
      "Epoch 38/100\n",
      "23/23 [==============================] - 5s 228ms/step - loss: 5.0581e-04 - val_loss: 5.4300e-04\n",
      "Epoch 39/100\n",
      "23/23 [==============================] - 5s 230ms/step - loss: 5.1206e-04 - val_loss: 5.7750e-04\n",
      "Epoch 40/100\n",
      "23/23 [==============================] - 5s 217ms/step - loss: 5.8285e-04 - val_loss: 4.8391e-04\n",
      "Epoch 41/100\n",
      "23/23 [==============================] - 5s 198ms/step - loss: 4.9208e-04 - val_loss: 5.4886e-04\n",
      "Epoch 42/100\n",
      "23/23 [==============================] - 5s 219ms/step - loss: 4.7209e-04 - val_loss: 4.5580e-04\n",
      "Epoch 43/100\n",
      "23/23 [==============================] - 5s 197ms/step - loss: 4.7129e-04 - val_loss: 5.0243e-04\n",
      "Epoch 44/100\n",
      "23/23 [==============================] - 5s 196ms/step - loss: 4.3759e-04 - val_loss: 4.2524e-04\n",
      "Epoch 45/100\n",
      "23/23 [==============================] - 5s 197ms/step - loss: 4.5777e-04 - val_loss: 4.4508e-04\n",
      "Epoch 46/100\n",
      "23/23 [==============================] - 5s 197ms/step - loss: 4.2887e-04 - val_loss: 4.6386e-04\n",
      "Epoch 47/100\n",
      "23/23 [==============================] - 5s 216ms/step - loss: 4.1494e-04 - val_loss: 4.5647e-04\n",
      "Epoch 48/100\n",
      "23/23 [==============================] - 5s 205ms/step - loss: 4.1310e-04 - val_loss: 4.6587e-04\n",
      "Epoch 49/100\n",
      "23/23 [==============================] - 5s 212ms/step - loss: 4.2221e-04 - val_loss: 4.8419e-04\n",
      "Epoch 50/100\n",
      "23/23 [==============================] - 5s 198ms/step - loss: 4.2059e-04 - val_loss: 5.4220e-04\n",
      "Epoch 51/100\n",
      "23/23 [==============================] - 5s 200ms/step - loss: 3.8184e-04 - val_loss: 4.8817e-04\n",
      "Epoch 52/100\n",
      "23/23 [==============================] - 5s 198ms/step - loss: 4.5852e-04 - val_loss: 4.9814e-04\n",
      "Epoch 53/100\n",
      "23/23 [==============================] - 5s 201ms/step - loss: 3.7309e-04 - val_loss: 3.7401e-04\n",
      "Epoch 54/100\n",
      "23/23 [==============================] - 4s 195ms/step - loss: 4.7714e-04 - val_loss: 4.7857e-04\n",
      "Epoch 55/100\n",
      "23/23 [==============================] - 6s 244ms/step - loss: 3.5972e-04 - val_loss: 3.9141e-04\n",
      "Epoch 56/100\n",
      "23/23 [==============================] - 6s 271ms/step - loss: 3.4561e-04 - val_loss: 5.2379e-04\n",
      "Epoch 57/100\n",
      "23/23 [==============================] - 5s 213ms/step - loss: 3.6060e-04 - val_loss: 4.4047e-04\n",
      "Epoch 58/100\n",
      "23/23 [==============================] - 4s 196ms/step - loss: 3.6308e-04 - val_loss: 3.5510e-04\n",
      "Epoch 59/100\n",
      "23/23 [==============================] - 4s 196ms/step - loss: 3.2275e-04 - val_loss: 4.6054e-04\n",
      "Epoch 60/100\n",
      "23/23 [==============================] - 4s 195ms/step - loss: 3.7527e-04 - val_loss: 4.8377e-04\n",
      "Epoch 61/100\n",
      "23/23 [==============================] - 4s 196ms/step - loss: 3.5900e-04 - val_loss: 3.1718e-04\n",
      "Epoch 62/100\n",
      "23/23 [==============================] - 5s 199ms/step - loss: 3.1697e-04 - val_loss: 3.2873e-04\n",
      "Epoch 63/100\n",
      "23/23 [==============================] - 5s 197ms/step - loss: 3.1501e-04 - val_loss: 3.6906e-04\n",
      "Epoch 64/100\n",
      "23/23 [==============================] - 5s 223ms/step - loss: 2.9434e-04 - val_loss: 3.2197e-04\n",
      "Epoch 65/100\n",
      "23/23 [==============================] - 5s 200ms/step - loss: 2.8752e-04 - val_loss: 2.7675e-04\n",
      "Epoch 66/100\n",
      "23/23 [==============================] - 5s 213ms/step - loss: 2.8340e-04 - val_loss: 3.6513e-04\n",
      "Epoch 67/100\n",
      "23/23 [==============================] - 5s 200ms/step - loss: 2.9662e-04 - val_loss: 3.3134e-04\n",
      "Epoch 68/100\n",
      "23/23 [==============================] - 5s 200ms/step - loss: 3.1558e-04 - val_loss: 3.2667e-04\n",
      "Epoch 69/100\n",
      "23/23 [==============================] - 5s 202ms/step - loss: 2.6457e-04 - val_loss: 2.5551e-04\n",
      "Epoch 70/100\n",
      "23/23 [==============================] - 5s 200ms/step - loss: 3.2891e-04 - val_loss: 3.6593e-04\n",
      "Epoch 71/100\n",
      "23/23 [==============================] - 4s 195ms/step - loss: 2.8647e-04 - val_loss: 2.7175e-04\n",
      "Epoch 72/100\n",
      "23/23 [==============================] - 5s 197ms/step - loss: 2.8176e-04 - val_loss: 2.9444e-04\n",
      "Epoch 73/100\n",
      "23/23 [==============================] - 5s 202ms/step - loss: 3.0272e-04 - val_loss: 3.9796e-04\n",
      "Epoch 74/100\n",
      "23/23 [==============================] - 5s 199ms/step - loss: 2.7893e-04 - val_loss: 2.4270e-04\n",
      "Epoch 75/100\n",
      "23/23 [==============================] - 5s 207ms/step - loss: 2.5204e-04 - val_loss: 3.1790e-04\n",
      "Epoch 76/100\n",
      "23/23 [==============================] - 5s 213ms/step - loss: 2.6546e-04 - val_loss: 2.2371e-04\n",
      "Epoch 77/100\n",
      "23/23 [==============================] - 4s 195ms/step - loss: 2.3456e-04 - val_loss: 2.5253e-04\n",
      "Epoch 78/100\n",
      "23/23 [==============================] - 5s 197ms/step - loss: 2.4443e-04 - val_loss: 2.3676e-04\n",
      "Epoch 79/100\n",
      "23/23 [==============================] - 5s 195ms/step - loss: 2.4528e-04 - val_loss: 3.2044e-04\n",
      "Epoch 80/100\n",
      "23/23 [==============================] - 5s 235ms/step - loss: 2.1635e-04 - val_loss: 3.0349e-04\n",
      "Epoch 81/100\n",
      "23/23 [==============================] - 6s 267ms/step - loss: 2.4179e-04 - val_loss: 2.5564e-04\n",
      "Epoch 82/100\n",
      "23/23 [==============================] - 5s 197ms/step - loss: 2.0540e-04 - val_loss: 2.0889e-04\n",
      "Epoch 83/100\n",
      "23/23 [==============================] - 5s 197ms/step - loss: 2.0570e-04 - val_loss: 2.1283e-04\n",
      "Epoch 84/100\n",
      "23/23 [==============================] - 5s 238ms/step - loss: 2.1150e-04 - val_loss: 2.7647e-04\n",
      "Epoch 85/100\n",
      "23/23 [==============================] - 5s 240ms/step - loss: 2.3704e-04 - val_loss: 5.1597e-04\n",
      "Epoch 86/100\n",
      "23/23 [==============================] - 5s 209ms/step - loss: 2.8625e-04 - val_loss: 2.8213e-04\n",
      "Epoch 87/100\n",
      "23/23 [==============================] - 5s 198ms/step - loss: 2.0534e-04 - val_loss: 2.2673e-04\n",
      "Epoch 88/100\n",
      "23/23 [==============================] - 5s 218ms/step - loss: 2.0623e-04 - val_loss: 2.4868e-04\n",
      "Epoch 89/100\n",
      "23/23 [==============================] - 5s 218ms/step - loss: 1.8926e-04 - val_loss: 1.7551e-04\n",
      "Epoch 90/100\n",
      "23/23 [==============================] - 5s 203ms/step - loss: 1.9570e-04 - val_loss: 2.4256e-04\n",
      "Epoch 91/100\n",
      "23/23 [==============================] - 6s 277ms/step - loss: 1.9305e-04 - val_loss: 2.6523e-04\n",
      "Epoch 92/100\n",
      "23/23 [==============================] - 5s 223ms/step - loss: 2.4212e-04 - val_loss: 2.4511e-04\n",
      "Epoch 93/100\n",
      "23/23 [==============================] - 6s 276ms/step - loss: 1.8960e-04 - val_loss: 1.9831e-04\n",
      "Epoch 94/100\n",
      "23/23 [==============================] - 6s 249ms/step - loss: 1.8573e-04 - val_loss: 1.6166e-04\n",
      "Epoch 95/100\n",
      "23/23 [==============================] - 7s 305ms/step - loss: 1.9932e-04 - val_loss: 2.4289e-04\n",
      "Epoch 96/100\n",
      "23/23 [==============================] - 7s 299ms/step - loss: 1.9134e-04 - val_loss: 2.2140e-04\n",
      "Epoch 97/100\n",
      "23/23 [==============================] - 7s 291ms/step - loss: 1.7626e-04 - val_loss: 1.8756e-04\n",
      "Epoch 98/100\n",
      "23/23 [==============================] - 6s 245ms/step - loss: 1.7967e-04 - val_loss: 2.0705e-04\n",
      "Epoch 99/100\n",
      "23/23 [==============================] - 5s 240ms/step - loss: 1.9359e-04 - val_loss: 1.7977e-04\n",
      "Epoch 100/100\n",
      "23/23 [==============================] - 5s 225ms/step - loss: 2.0288e-04 - val_loss: 2.0688e-04\n"
     ]
    },
    {
     "data": {
      "text/plain": [
       "<tensorflow.python.keras.callbacks.History at 0x29acdc67790>"
      ]
     },
     "execution_count": 34,
     "metadata": {},
     "output_type": "execute_result"
    }
   ],
   "source": [
    "model.fit(x_train, y_train, validation_data = (x_test, y_test), epochs = 100, batch_size = 64, verbose = 1)"
   ]
  },
  {
   "cell_type": "code",
   "execution_count": 35,
   "id": "3d49ab20",
   "metadata": {},
   "outputs": [],
   "source": [
    "#predictions\n",
    "#Lets predict and check performance metrics\n",
    "train_predict = model.predict(x_train)\n",
    "test_predict = model.predict(x_test)"
   ]
  },
  {
   "cell_type": "code",
   "execution_count": 36,
   "id": "1c8b4e67",
   "metadata": {},
   "outputs": [],
   "source": [
    "#Transform back to original form\n",
    "train_predict = scaler.inverse_transform(train_predict)\n",
    "test_predict = scaler.inverse_transform(test_predict)"
   ]
  },
  {
   "cell_type": "code",
   "execution_count": 37,
   "id": "d819399b",
   "metadata": {},
   "outputs": [
    {
     "data": {
      "text/plain": [
       "167.48252693948547"
      ]
     },
     "execution_count": 37,
     "metadata": {},
     "output_type": "execute_result"
    }
   ],
   "source": [
    "#Calculate RMSE performance metrics\n",
    "import math\n",
    "from sklearn.metrics import mean_squared_error\n",
    "math.sqrt(mean_squared_error(y_train, train_predict))"
   ]
  },
  {
   "cell_type": "code",
   "execution_count": 38,
   "id": "92789b0c",
   "metadata": {},
   "outputs": [
    {
     "data": {
      "text/plain": [
       "108.36121127440018"
      ]
     },
     "execution_count": 38,
     "metadata": {},
     "output_type": "execute_result"
    }
   ],
   "source": [
    "#Test Data RMSE\n",
    "math.sqrt(mean_squared_error(y_test, test_predict))"
   ]
  },
  {
   "cell_type": "code",
   "execution_count": 39,
   "id": "7d42d031",
   "metadata": {},
   "outputs": [
    {
     "data": {
      "image/png": "[encoded data removed]",
      "text/plain": [
       "<Figure size 640x480 with 1 Axes>"
      ]
     },
     "metadata": {},
     "output_type": "display_data"
    },
    {
     "name": "stdout",
     "output_type": "stream",
     "text": [
      "Green indicates the Predicted Data\n",
      "Blue indicates the Complete Data\n",
      "Orange indicates the Train Data\n"
     ]
    }
   ],
   "source": [
    "#Plotting\n",
    "#Shift train prediction for plotting\n",
    "look_back = 100\n",
    "trainPredictPlot = np.empty_like(stock_high)\n",
    "trainPredictPlot[:,:] = np.nan\n",
    "trainPredictPlot[look_back:len(train_predict) + look_back, :] = train_predict\n",
    "\n",
    "#Shift test prediction for plotting\n",
    "testPredictPlot = np.empty_like(stock_high)\n",
    "testPredictPlot[:,:] = np.nan\n",
    "testPredictPlot[len(train_predict) + (look_back * 2)+1:len(stock_high) - 1, :] = test_predict\n",
    "#Plot baseline and predictions\n",
    "plt.plot(scaler.inverse_transform(stock_high))\n",
    "plt.plot(trainPredictPlot)\n",
    "plt.plot(testPredictPlot)\n",
    "plt.show()\n",
    "\n",
    "print(\"Green indicates the Predicted Data\")\n",
    "print(\"Blue indicates the Complete Data\")\n",
    "print(\"Orange indicates the Train Data\")"
   ]
  },
  {
   "cell_type": "code",
   "execution_count": 40,
   "id": "7f9bf1eb",
   "metadata": {},
   "outputs": [
    {
     "data": {
      "text/plain": [
       "(509, (408, 100, 1))"
      ]
     },
     "execution_count": 40,
     "metadata": {},
     "output_type": "execute_result"
    }
   ],
   "source": [
    "#Predict the next 30 days Stock Price\n",
    "len(test_data), x_test.shape"
   ]
  },
  {
   "cell_type": "code",
   "execution_count": 41,
   "id": "5624474f",
   "metadata": {},
   "outputs": [
    {
     "data": {
      "text/plain": [
       "(1, 100)"
      ]
     },
     "execution_count": 41,
     "metadata": {},
     "output_type": "execute_result"
    }
   ],
   "source": [
    "x_input = test_data[409:].reshape(1,-1)\n",
    "x_input.shape"
   ]
  },
  {
   "cell_type": "code",
   "execution_count": 42,
   "id": "d62299df",
   "metadata": {},
   "outputs": [
    {
     "name": "stdout",
     "output_type": "stream",
     "text": [
      "[0.16482727]\n",
      "101\n",
      "1 day input [0.13254727 0.13397032 0.13356373 0.13498679 0.14108559 0.13498679\n",
      " 0.12644847 0.12685505 0.12482212 0.14515145 0.1467778  0.15003049\n",
      " 0.15368977 0.17198618 0.16548079 0.17625534 0.17564546 0.19129904\n",
      " 0.20817239 0.20309006 0.18479366 0.17930474 0.1896727  0.17483228\n",
      " 0.17849156 0.17645863 0.18540354 0.18377719 0.19190892 0.18987599\n",
      " 0.19028258 0.19394186 0.20004066 0.19638138 0.19495832 0.20349665\n",
      " 0.19597479 0.21162838 0.22036999 0.20979874 0.21528766 0.21589754\n",
      " 0.21610083 0.22748526 0.19150234 0.1833706  0.17340923 0.16751372\n",
      " 0.1622281  0.17056312 0.17462899 0.17930474 0.18174426 0.16853019\n",
      " 0.16548079 0.1742224  0.1713763  0.17300264 0.17157959 0.17767839\n",
      " 0.18459036 0.18702988 0.18987599 0.19109575 0.18581012 0.17015654\n",
      " 0.16751372 0.16974995 0.16609067 0.15531612 0.15003049 0.15064037\n",
      " 0.14860744 0.14596463 0.15043708 0.14413499 0.12441553 0.12827811\n",
      " 0.11547062 0.12034966 0.13478349 0.13498679 0.12868469 0.13295385\n",
      " 0.12807481 0.12624517 0.13051433 0.13905265 0.14718439 0.15104696\n",
      " 0.14515145 0.14311852 0.15816223 0.15328319 0.14921732 0.15531612\n",
      " 0.15917869 0.15938199 0.16344786 0.16482727]\n",
      "1 day output [[0.1672063]]\n",
      "2 day input [0.13397032 0.13356373 0.13498679 0.14108559 0.13498679 0.12644847\n",
      " 0.12685505 0.12482212 0.14515145 0.1467778  0.15003049 0.15368977\n",
      " 0.17198618 0.16548079 0.17625534 0.17564546 0.19129904 0.20817239\n",
      " 0.20309006 0.18479366 0.17930474 0.1896727  0.17483228 0.17849156\n",
      " 0.17645863 0.18540354 0.18377719 0.19190892 0.18987599 0.19028258\n",
      " 0.19394186 0.20004066 0.19638138 0.19495832 0.20349665 0.19597479\n",
      " 0.21162838 0.22036999 0.20979874 0.21528766 0.21589754 0.21610083\n",
      " 0.22748526 0.19150234 0.1833706  0.17340923 0.16751372 0.1622281\n",
      " 0.17056312 0.17462899 0.17930474 0.18174426 0.16853019 0.16548079\n",
      " 0.1742224  0.1713763  0.17300264 0.17157959 0.17767839 0.18459036\n",
      " 0.18702988 0.18987599 0.19109575 0.18581012 0.17015654 0.16751372\n",
      " 0.16974995 0.16609067 0.15531612 0.15003049 0.15064037 0.14860744\n",
      " 0.14596463 0.15043708 0.14413499 0.12441553 0.12827811 0.11547062\n",
      " 0.12034966 0.13478349 0.13498679 0.12868469 0.13295385 0.12807481\n",
      " 0.12624517 0.13051433 0.13905265 0.14718439 0.15104696 0.14515145\n",
      " 0.14311852 0.15816223 0.15328319 0.14921732 0.15531612 0.15917869\n",
      " 0.15938199 0.16344786 0.16482727 0.1672063 ]\n",
      "2 day output [[0.16937774]]\n",
      "3 day input [0.13356373 0.13498679 0.14108559 0.13498679 0.12644847 0.12685505\n",
      " 0.12482212 0.14515145 0.1467778  0.15003049 0.15368977 0.17198618\n",
      " 0.16548079 0.17625534 0.17564546 0.19129904 0.20817239 0.20309006\n",
      " 0.18479366 0.17930474 0.1896727  0.17483228 0.17849156 0.17645863\n",
      " 0.18540354 0.18377719 0.19190892 0.18987599 0.19028258 0.19394186\n",
      " 0.20004066 0.19638138 0.19495832 0.20349665 0.19597479 0.21162838\n",
      " 0.22036999 0.20979874 0.21528766 0.21589754 0.21610083 0.22748526\n",
      " 0.19150234 0.1833706  0.17340923 0.16751372 0.1622281  0.17056312\n",
      " 0.17462899 0.17930474 0.18174426 0.16853019 0.16548079 0.1742224\n",
      " 0.1713763  0.17300264 0.17157959 0.17767839 0.18459036 0.18702988\n",
      " 0.18987599 0.19109575 0.18581012 0.17015654 0.16751372 0.16974995\n",
      " 0.16609067 0.15531612 0.15003049 0.15064037 0.14860744 0.14596463\n",
      " 0.15043708 0.14413499 0.12441553 0.12827811 0.11547062 0.12034966\n",
      " 0.13478349 0.13498679 0.12868469 0.13295385 0.12807481 0.12624517\n",
      " 0.13051433 0.13905265 0.14718439 0.15104696 0.14515145 0.14311852\n",
      " 0.15816223 0.15328319 0.14921732 0.15531612 0.15917869 0.15938199\n",
      " 0.16344786 0.16482727 0.1672063  0.16937774]\n",
      "3 day output [[0.17147338]]\n",
      "4 day input [0.13498679 0.14108559 0.13498679 0.12644847 0.12685505 0.12482212\n",
      " 0.14515145 0.1467778  0.15003049 0.15368977 0.17198618 0.16548079\n",
      " 0.17625534 0.17564546 0.19129904 0.20817239 0.20309006 0.18479366\n",
      " 0.17930474 0.1896727  0.17483228 0.17849156 0.17645863 0.18540354\n",
      " 0.18377719 0.19190892 0.18987599 0.19028258 0.19394186 0.20004066\n",
      " 0.19638138 0.19495832 0.20349665 0.19597479 0.21162838 0.22036999\n",
      " 0.20979874 0.21528766 0.21589754 0.21610083 0.22748526 0.19150234\n",
      " 0.1833706  0.17340923 0.16751372 0.1622281  0.17056312 0.17462899\n",
      " 0.17930474 0.18174426 0.16853019 0.16548079 0.1742224  0.1713763\n",
      " 0.17300264 0.17157959 0.17767839 0.18459036 0.18702988 0.18987599\n",
      " 0.19109575 0.18581012 0.17015654 0.16751372 0.16974995 0.16609067\n",
      " 0.15531612 0.15003049 0.15064037 0.14860744 0.14596463 0.15043708\n",
      " 0.14413499 0.12441553 0.12827811 0.11547062 0.12034966 0.13478349\n",
      " 0.13498679 0.12868469 0.13295385 0.12807481 0.12624517 0.13051433\n",
      " 0.13905265 0.14718439 0.15104696 0.14515145 0.14311852 0.15816223\n",
      " 0.15328319 0.14921732 0.15531612 0.15917869 0.15938199 0.16344786\n",
      " 0.16482727 0.1672063  0.16937774 0.17147338]\n",
      "4 day output [[0.17351992]]\n",
      "5 day input [0.14108559 0.13498679 0.12644847 0.12685505 0.12482212 0.14515145\n",
      " 0.1467778  0.15003049 0.15368977 0.17198618 0.16548079 0.17625534\n",
      " 0.17564546 0.19129904 0.20817239 0.20309006 0.18479366 0.17930474\n",
      " 0.1896727  0.17483228 0.17849156 0.17645863 0.18540354 0.18377719\n",
      " 0.19190892 0.18987599 0.19028258 0.19394186 0.20004066 0.19638138\n",
      " 0.19495832 0.20349665 0.19597479 0.21162838 0.22036999 0.20979874\n",
      " 0.21528766 0.21589754 0.21610083 0.22748526 0.19150234 0.1833706\n",
      " 0.17340923 0.16751372 0.1622281  0.17056312 0.17462899 0.17930474\n",
      " 0.18174426 0.16853019 0.16548079 0.1742224  0.1713763  0.17300264\n",
      " 0.17157959 0.17767839 0.18459036 0.18702988 0.18987599 0.19109575\n",
      " 0.18581012 0.17015654 0.16751372 0.16974995 0.16609067 0.15531612\n",
      " 0.15003049 0.15064037 0.14860744 0.14596463 0.15043708 0.14413499\n",
      " 0.12441553 0.12827811 0.11547062 0.12034966 0.13478349 0.13498679\n",
      " 0.12868469 0.13295385 0.12807481 0.12624517 0.13051433 0.13905265\n",
      " 0.14718439 0.15104696 0.14515145 0.14311852 0.15816223 0.15328319\n",
      " 0.14921732 0.15531612 0.15917869 0.15938199 0.16344786 0.16482727\n",
      " 0.1672063  0.16937774 0.17147338 0.17351992]\n",
      "5 day output [[0.1755233]]\n",
      "6 day input [0.13498679 0.12644847 0.12685505 0.12482212 0.14515145 0.1467778\n",
      " 0.15003049 0.15368977 0.17198618 0.16548079 0.17625534 0.17564546\n",
      " 0.19129904 0.20817239 0.20309006 0.18479366 0.17930474 0.1896727\n",
      " 0.17483228 0.17849156 0.17645863 0.18540354 0.18377719 0.19190892\n",
      " 0.18987599 0.19028258 0.19394186 0.20004066 0.19638138 0.19495832\n",
      " 0.20349665 0.19597479 0.21162838 0.22036999 0.20979874 0.21528766\n",
      " 0.21589754 0.21610083 0.22748526 0.19150234 0.1833706  0.17340923\n",
      " 0.16751372 0.1622281  0.17056312 0.17462899 0.17930474 0.18174426\n",
      " 0.16853019 0.16548079 0.1742224  0.1713763  0.17300264 0.17157959\n",
      " 0.17767839 0.18459036 0.18702988 0.18987599 0.19109575 0.18581012\n",
      " 0.17015654 0.16751372 0.16974995 0.16609067 0.15531612 0.15003049\n",
      " 0.15064037 0.14860744 0.14596463 0.15043708 0.14413499 0.12441553\n",
      " 0.12827811 0.11547062 0.12034966 0.13478349 0.13498679 0.12868469\n",
      " 0.13295385 0.12807481 0.12624517 0.13051433 0.13905265 0.14718439\n",
      " 0.15104696 0.14515145 0.14311852 0.15816223 0.15328319 0.14921732\n",
      " 0.15531612 0.15917869 0.15938199 0.16344786 0.16482727 0.1672063\n",
      " 0.16937774 0.17147338 0.17351992 0.1755233 ]\n",
      "6 day output [[0.17748968]]\n",
      "7 day input [0.12644847 0.12685505 0.12482212 0.14515145 0.1467778  0.15003049\n",
      " 0.15368977 0.17198618 0.16548079 0.17625534 0.17564546 0.19129904\n",
      " 0.20817239 0.20309006 0.18479366 0.17930474 0.1896727  0.17483228\n",
      " 0.17849156 0.17645863 0.18540354 0.18377719 0.19190892 0.18987599\n",
      " 0.19028258 0.19394186 0.20004066 0.19638138 0.19495832 0.20349665\n",
      " 0.19597479 0.21162838 0.22036999 0.20979874 0.21528766 0.21589754\n",
      " 0.21610083 0.22748526 0.19150234 0.1833706  0.17340923 0.16751372\n",
      " 0.1622281  0.17056312 0.17462899 0.17930474 0.18174426 0.16853019\n",
      " 0.16548079 0.1742224  0.1713763  0.17300264 0.17157959 0.17767839\n",
      " 0.18459036 0.18702988 0.18987599 0.19109575 0.18581012 0.17015654\n",
      " 0.16751372 0.16974995 0.16609067 0.15531612 0.15003049 0.15064037\n",
      " 0.14860744 0.14596463 0.15043708 0.14413499 0.12441553 0.12827811\n",
      " 0.11547062 0.12034966 0.13478349 0.13498679 0.12868469 0.13295385\n",
      " 0.12807481 0.12624517 0.13051433 0.13905265 0.14718439 0.15104696\n",
      " 0.14515145 0.14311852 0.15816223 0.15328319 0.14921732 0.15531612\n",
      " 0.15917869 0.15938199 0.16344786 0.16482727 0.1672063  0.16937774\n",
      " 0.17147338 0.17351992 0.1755233  0.17748968]\n",
      "7 day output [[0.17942537]]\n",
      "8 day input [0.12685505 0.12482212 0.14515145 0.1467778  0.15003049 0.15368977\n",
      " 0.17198618 0.16548079 0.17625534 0.17564546 0.19129904 0.20817239\n",
      " 0.20309006 0.18479366 0.17930474 0.1896727  0.17483228 0.17849156\n",
      " 0.17645863 0.18540354 0.18377719 0.19190892 0.18987599 0.19028258\n",
      " 0.19394186 0.20004066 0.19638138 0.19495832 0.20349665 0.19597479\n",
      " 0.21162838 0.22036999 0.20979874 0.21528766 0.21589754 0.21610083\n",
      " 0.22748526 0.19150234 0.1833706  0.17340923 0.16751372 0.1622281\n",
      " 0.17056312 0.17462899 0.17930474 0.18174426 0.16853019 0.16548079\n",
      " 0.1742224  0.1713763  0.17300264 0.17157959 0.17767839 0.18459036\n",
      " 0.18702988 0.18987599 0.19109575 0.18581012 0.17015654 0.16751372\n",
      " 0.16974995 0.16609067 0.15531612 0.15003049 0.15064037 0.14860744\n",
      " 0.14596463 0.15043708 0.14413499 0.12441553 0.12827811 0.11547062\n",
      " 0.12034966 0.13478349 0.13498679 0.12868469 0.13295385 0.12807481\n",
      " 0.12624517 0.13051433 0.13905265 0.14718439 0.15104696 0.14515145\n",
      " 0.14311852 0.15816223 0.15328319 0.14921732 0.15531612 0.15917869\n",
      " 0.15938199 0.16344786 0.16482727 0.1672063  0.16937774 0.17147338\n",
      " 0.17351992 0.1755233  0.17748968 0.17942537]\n",
      "8 day output [[0.1813361]]\n",
      "9 day input [0.12482212 0.14515145 0.1467778  0.15003049 0.15368977 0.17198618\n",
      " 0.16548079 0.17625534 0.17564546 0.19129904 0.20817239 0.20309006\n",
      " 0.18479366 0.17930474 0.1896727  0.17483228 0.17849156 0.17645863\n",
      " 0.18540354 0.18377719 0.19190892 0.18987599 0.19028258 0.19394186\n",
      " 0.20004066 0.19638138 0.19495832 0.20349665 0.19597479 0.21162838\n",
      " 0.22036999 0.20979874 0.21528766 0.21589754 0.21610083 0.22748526\n",
      " 0.19150234 0.1833706  0.17340923 0.16751372 0.1622281  0.17056312\n",
      " 0.17462899 0.17930474 0.18174426 0.16853019 0.16548079 0.1742224\n",
      " 0.1713763  0.17300264 0.17157959 0.17767839 0.18459036 0.18702988\n",
      " 0.18987599 0.19109575 0.18581012 0.17015654 0.16751372 0.16974995\n",
      " 0.16609067 0.15531612 0.15003049 0.15064037 0.14860744 0.14596463\n",
      " 0.15043708 0.14413499 0.12441553 0.12827811 0.11547062 0.12034966\n",
      " 0.13478349 0.13498679 0.12868469 0.13295385 0.12807481 0.12624517\n",
      " 0.13051433 0.13905265 0.14718439 0.15104696 0.14515145 0.14311852\n",
      " 0.15816223 0.15328319 0.14921732 0.15531612 0.15917869 0.15938199\n",
      " 0.16344786 0.16482727 0.1672063  0.16937774 0.17147338 0.17351992\n",
      " 0.1755233  0.17748968 0.17942537 0.1813361 ]\n",
      "9 day output [[0.18322672]]\n",
      "10 day input [0.14515145 0.1467778  0.15003049 0.15368977 0.17198618 0.16548079\n",
      " 0.17625534 0.17564546 0.19129904 0.20817239 0.20309006 0.18479366\n",
      " 0.17930474 0.1896727  0.17483228 0.17849156 0.17645863 0.18540354\n",
      " 0.18377719 0.19190892 0.18987599 0.19028258 0.19394186 0.20004066\n",
      " 0.19638138 0.19495832 0.20349665 0.19597479 0.21162838 0.22036999\n",
      " 0.20979874 0.21528766 0.21589754 0.21610083 0.22748526 0.19150234\n",
      " 0.1833706  0.17340923 0.16751372 0.1622281  0.17056312 0.17462899\n",
      " 0.17930474 0.18174426 0.16853019 0.16548079 0.1742224  0.1713763\n",
      " 0.17300264 0.17157959 0.17767839 0.18459036 0.18702988 0.18987599\n",
      " 0.19109575 0.18581012 0.17015654 0.16751372 0.16974995 0.16609067\n",
      " 0.15531612 0.15003049 0.15064037 0.14860744 0.14596463 0.15043708\n",
      " 0.14413499 0.12441553 0.12827811 0.11547062 0.12034966 0.13478349\n",
      " 0.13498679 0.12868469 0.13295385 0.12807481 0.12624517 0.13051433\n",
      " 0.13905265 0.14718439 0.15104696 0.14515145 0.14311852 0.15816223\n",
      " 0.15328319 0.14921732 0.15531612 0.15917869 0.15938199 0.16344786\n",
      " 0.16482727 0.1672063  0.16937774 0.17147338 0.17351992 0.1755233\n",
      " 0.17748968 0.17942537 0.1813361  0.18322672]\n",
      "10 day output [[0.18510102]]\n",
      "11 day input [0.1467778  0.15003049 0.15368977 0.17198618 0.16548079 0.17625534\n",
      " 0.17564546 0.19129904 0.20817239 0.20309006 0.18479366 0.17930474\n",
      " 0.1896727  0.17483228 0.17849156 0.17645863 0.18540354 0.18377719\n",
      " 0.19190892 0.18987599 0.19028258 0.19394186 0.20004066 0.19638138\n",
      " 0.19495832 0.20349665 0.19597479 0.21162838 0.22036999 0.20979874\n",
      " 0.21528766 0.21589754 0.21610083 0.22748526 0.19150234 0.1833706\n",
      " 0.17340923 0.16751372 0.1622281  0.17056312 0.17462899 0.17930474\n",
      " 0.18174426 0.16853019 0.16548079 0.1742224  0.1713763  0.17300264\n",
      " 0.17157959 0.17767839 0.18459036 0.18702988 0.18987599 0.19109575\n",
      " 0.18581012 0.17015654 0.16751372 0.16974995 0.16609067 0.15531612\n",
      " 0.15003049 0.15064037 0.14860744 0.14596463 0.15043708 0.14413499\n",
      " 0.12441553 0.12827811 0.11547062 0.12034966 0.13478349 0.13498679\n",
      " 0.12868469 0.13295385 0.12807481 0.12624517 0.13051433 0.13905265\n",
      " 0.14718439 0.15104696 0.14515145 0.14311852 0.15816223 0.15328319\n",
      " 0.14921732 0.15531612 0.15917869 0.15938199 0.16344786 0.16482727\n",
      " 0.1672063  0.16937774 0.17147338 0.17351992 0.1755233  0.17748968\n",
      " 0.17942537 0.1813361  0.18322672 0.18510102]\n",
      "11 day output [[0.18696207]]\n",
      "12 day input [0.15003049 0.15368977 0.17198618 0.16548079 0.17625534 0.17564546\n",
      " 0.19129904 0.20817239 0.20309006 0.18479366 0.17930474 0.1896727\n",
      " 0.17483228 0.17849156 0.17645863 0.18540354 0.18377719 0.19190892\n",
      " 0.18987599 0.19028258 0.19394186 0.20004066 0.19638138 0.19495832\n",
      " 0.20349665 0.19597479 0.21162838 0.22036999 0.20979874 0.21528766\n",
      " 0.21589754 0.21610083 0.22748526 0.19150234 0.1833706  0.17340923\n",
      " 0.16751372 0.1622281  0.17056312 0.17462899 0.17930474 0.18174426\n",
      " 0.16853019 0.16548079 0.1742224  0.1713763  0.17300264 0.17157959\n",
      " 0.17767839 0.18459036 0.18702988 0.18987599 0.19109575 0.18581012\n",
      " 0.17015654 0.16751372 0.16974995 0.16609067 0.15531612 0.15003049\n",
      " 0.15064037 0.14860744 0.14596463 0.15043708 0.14413499 0.12441553\n",
      " 0.12827811 0.11547062 0.12034966 0.13478349 0.13498679 0.12868469\n",
      " 0.13295385 0.12807481 0.12624517 0.13051433 0.13905265 0.14718439\n",
      " 0.15104696 0.14515145 0.14311852 0.15816223 0.15328319 0.14921732\n",
      " 0.15531612 0.15917869 0.15938199 0.16344786 0.16482727 0.1672063\n",
      " 0.16937774 0.17147338 0.17351992 0.1755233  0.17748968 0.17942537\n",
      " 0.1813361  0.18322672 0.18510102 0.18696207]\n",
      "12 day output [[0.18881214]]\n",
      "13 day input [0.15368977 0.17198618 0.16548079 0.17625534 0.17564546 0.19129904\n",
      " 0.20817239 0.20309006 0.18479366 0.17930474 0.1896727  0.17483228\n",
      " 0.17849156 0.17645863 0.18540354 0.18377719 0.19190892 0.18987599\n",
      " 0.19028258 0.19394186 0.20004066 0.19638138 0.19495832 0.20349665\n",
      " 0.19597479 0.21162838 0.22036999 0.20979874 0.21528766 0.21589754\n",
      " 0.21610083 0.22748526 0.19150234 0.1833706  0.17340923 0.16751372\n",
      " 0.1622281  0.17056312 0.17462899 0.17930474 0.18174426 0.16853019\n",
      " 0.16548079 0.1742224  0.1713763  0.17300264 0.17157959 0.17767839\n",
      " 0.18459036 0.18702988 0.18987599 0.19109575 0.18581012 0.17015654\n",
      " 0.16751372 0.16974995 0.16609067 0.15531612 0.15003049 0.15064037\n",
      " 0.14860744 0.14596463 0.15043708 0.14413499 0.12441553 0.12827811\n",
      " 0.11547062 0.12034966 0.13478349 0.13498679 0.12868469 0.13295385\n",
      " 0.12807481 0.12624517 0.13051433 0.13905265 0.14718439 0.15104696\n",
      " 0.14515145 0.14311852 0.15816223 0.15328319 0.14921732 0.15531612\n",
      " 0.15917869 0.15938199 0.16344786 0.16482727 0.1672063  0.16937774\n",
      " 0.17147338 0.17351992 0.1755233  0.17748968 0.17942537 0.1813361\n",
      " 0.18322672 0.18510102 0.18696207 0.18881214]\n",
      "13 day output [[0.19065271]]\n",
      "14 day input [0.17198618 0.16548079 0.17625534 0.17564546 0.19129904 0.20817239\n",
      " 0.20309006 0.18479366 0.17930474 0.1896727  0.17483228 0.17849156\n",
      " 0.17645863 0.18540354 0.18377719 0.19190892 0.18987599 0.19028258\n",
      " 0.19394186 0.20004066 0.19638138 0.19495832 0.20349665 0.19597479\n",
      " 0.21162838 0.22036999 0.20979874 0.21528766 0.21589754 0.21610083\n",
      " 0.22748526 0.19150234 0.1833706  0.17340923 0.16751372 0.1622281\n",
      " 0.17056312 0.17462899 0.17930474 0.18174426 0.16853019 0.16548079\n",
      " 0.1742224  0.1713763  0.17300264 0.17157959 0.17767839 0.18459036\n",
      " 0.18702988 0.18987599 0.19109575 0.18581012 0.17015654 0.16751372\n",
      " 0.16974995 0.16609067 0.15531612 0.15003049 0.15064037 0.14860744\n",
      " 0.14596463 0.15043708 0.14413499 0.12441553 0.12827811 0.11547062\n",
      " 0.12034966 0.13478349 0.13498679 0.12868469 0.13295385 0.12807481\n",
      " 0.12624517 0.13051433 0.13905265 0.14718439 0.15104696 0.14515145\n",
      " 0.14311852 0.15816223 0.15328319 0.14921732 0.15531612 0.15917869\n",
      " 0.15938199 0.16344786 0.16482727 0.1672063  0.16937774 0.17147338\n",
      " 0.17351992 0.1755233  0.17748968 0.17942537 0.1813361  0.18322672\n",
      " 0.18510102 0.18696207 0.18881214 0.19065271]\n",
      "14 day output [[0.19248539]]\n",
      "15 day input [0.16548079 0.17625534 0.17564546 0.19129904 0.20817239 0.20309006\n",
      " 0.18479366 0.17930474 0.1896727  0.17483228 0.17849156 0.17645863\n",
      " 0.18540354 0.18377719 0.19190892 0.18987599 0.19028258 0.19394186\n",
      " 0.20004066 0.19638138 0.19495832 0.20349665 0.19597479 0.21162838\n",
      " 0.22036999 0.20979874 0.21528766 0.21589754 0.21610083 0.22748526\n",
      " 0.19150234 0.1833706  0.17340923 0.16751372 0.1622281  0.17056312\n",
      " 0.17462899 0.17930474 0.18174426 0.16853019 0.16548079 0.1742224\n",
      " 0.1713763  0.17300264 0.17157959 0.17767839 0.18459036 0.18702988\n",
      " 0.18987599 0.19109575 0.18581012 0.17015654 0.16751372 0.16974995\n",
      " 0.16609067 0.15531612 0.15003049 0.15064037 0.14860744 0.14596463\n",
      " 0.15043708 0.14413499 0.12441553 0.12827811 0.11547062 0.12034966\n",
      " 0.13478349 0.13498679 0.12868469 0.13295385 0.12807481 0.12624517\n",
      " 0.13051433 0.13905265 0.14718439 0.15104696 0.14515145 0.14311852\n",
      " 0.15816223 0.15328319 0.14921732 0.15531612 0.15917869 0.15938199\n",
      " 0.16344786 0.16482727 0.1672063  0.16937774 0.17147338 0.17351992\n",
      " 0.1755233  0.17748968 0.17942537 0.1813361  0.18322672 0.18510102\n",
      " 0.18696207 0.18881214 0.19065271 0.19248539]\n",
      "15 day output [[0.19431083]]\n",
      "16 day input [0.17625534 0.17564546 0.19129904 0.20817239 0.20309006 0.18479366\n",
      " 0.17930474 0.1896727  0.17483228 0.17849156 0.17645863 0.18540354\n",
      " 0.18377719 0.19190892 0.18987599 0.19028258 0.19394186 0.20004066\n",
      " 0.19638138 0.19495832 0.20349665 0.19597479 0.21162838 0.22036999\n",
      " 0.20979874 0.21528766 0.21589754 0.21610083 0.22748526 0.19150234\n",
      " 0.1833706  0.17340923 0.16751372 0.1622281  0.17056312 0.17462899\n",
      " 0.17930474 0.18174426 0.16853019 0.16548079 0.1742224  0.1713763\n",
      " 0.17300264 0.17157959 0.17767839 0.18459036 0.18702988 0.18987599\n",
      " 0.19109575 0.18581012 0.17015654 0.16751372 0.16974995 0.16609067\n",
      " 0.15531612 0.15003049 0.15064037 0.14860744 0.14596463 0.15043708\n",
      " 0.14413499 0.12441553 0.12827811 0.11547062 0.12034966 0.13478349\n",
      " 0.13498679 0.12868469 0.13295385 0.12807481 0.12624517 0.13051433\n",
      " 0.13905265 0.14718439 0.15104696 0.14515145 0.14311852 0.15816223\n",
      " 0.15328319 0.14921732 0.15531612 0.15917869 0.15938199 0.16344786\n",
      " 0.16482727 0.1672063  0.16937774 0.17147338 0.17351992 0.1755233\n",
      " 0.17748968 0.17942537 0.1813361  0.18322672 0.18510102 0.18696207\n",
      " 0.18881214 0.19065271 0.19248539 0.19431083]\n",
      "16 day output [[0.19612975]]\n",
      "17 day input [0.17564546 0.19129904 0.20817239 0.20309006 0.18479366 0.17930474\n",
      " 0.1896727  0.17483228 0.17849156 0.17645863 0.18540354 0.18377719\n",
      " 0.19190892 0.18987599 0.19028258 0.19394186 0.20004066 0.19638138\n",
      " 0.19495832 0.20349665 0.19597479 0.21162838 0.22036999 0.20979874\n",
      " 0.21528766 0.21589754 0.21610083 0.22748526 0.19150234 0.1833706\n",
      " 0.17340923 0.16751372 0.1622281  0.17056312 0.17462899 0.17930474\n",
      " 0.18174426 0.16853019 0.16548079 0.1742224  0.1713763  0.17300264\n",
      " 0.17157959 0.17767839 0.18459036 0.18702988 0.18987599 0.19109575\n",
      " 0.18581012 0.17015654 0.16751372 0.16974995 0.16609067 0.15531612\n",
      " 0.15003049 0.15064037 0.14860744 0.14596463 0.15043708 0.14413499\n",
      " 0.12441553 0.12827811 0.11547062 0.12034966 0.13478349 0.13498679\n",
      " 0.12868469 0.13295385 0.12807481 0.12624517 0.13051433 0.13905265\n",
      " 0.14718439 0.15104696 0.14515145 0.14311852 0.15816223 0.15328319\n",
      " 0.14921732 0.15531612 0.15917869 0.15938199 0.16344786 0.16482727\n",
      " 0.1672063  0.16937774 0.17147338 0.17351992 0.1755233  0.17748968\n",
      " 0.17942537 0.1813361  0.18322672 0.18510102 0.18696207 0.18881214\n",
      " 0.19065271 0.19248539 0.19431083 0.19612975]\n",
      "17 day output [[0.19794269]]\n",
      "18 day input [0.19129904 0.20817239 0.20309006 0.18479366 0.17930474 0.1896727\n",
      " 0.17483228 0.17849156 0.17645863 0.18540354 0.18377719 0.19190892\n",
      " 0.18987599 0.19028258 0.19394186 0.20004066 0.19638138 0.19495832\n",
      " 0.20349665 0.19597479 0.21162838 0.22036999 0.20979874 0.21528766\n",
      " 0.21589754 0.21610083 0.22748526 0.19150234 0.1833706  0.17340923\n",
      " 0.16751372 0.1622281  0.17056312 0.17462899 0.17930474 0.18174426\n",
      " 0.16853019 0.16548079 0.1742224  0.1713763  0.17300264 0.17157959\n",
      " 0.17767839 0.18459036 0.18702988 0.18987599 0.19109575 0.18581012\n",
      " 0.17015654 0.16751372 0.16974995 0.16609067 0.15531612 0.15003049\n",
      " 0.15064037 0.14860744 0.14596463 0.15043708 0.14413499 0.12441553\n",
      " 0.12827811 0.11547062 0.12034966 0.13478349 0.13498679 0.12868469\n",
      " 0.13295385 0.12807481 0.12624517 0.13051433 0.13905265 0.14718439\n",
      " 0.15104696 0.14515145 0.14311852 0.15816223 0.15328319 0.14921732\n",
      " 0.15531612 0.15917869 0.15938199 0.16344786 0.16482727 0.1672063\n",
      " 0.16937774 0.17147338 0.17351992 0.1755233  0.17748968 0.17942537\n",
      " 0.1813361  0.18322672 0.18510102 0.18696207 0.18881214 0.19065271\n",
      " 0.19248539 0.19431083 0.19612975 0.19794269]\n",
      "18 day output [[0.19975013]]\n",
      "19 day input [0.20817239 0.20309006 0.18479366 0.17930474 0.1896727  0.17483228\n",
      " 0.17849156 0.17645863 0.18540354 0.18377719 0.19190892 0.18987599\n",
      " 0.19028258 0.19394186 0.20004066 0.19638138 0.19495832 0.20349665\n",
      " 0.19597479 0.21162838 0.22036999 0.20979874 0.21528766 0.21589754\n",
      " 0.21610083 0.22748526 0.19150234 0.1833706  0.17340923 0.16751372\n",
      " 0.1622281  0.17056312 0.17462899 0.17930474 0.18174426 0.16853019\n",
      " 0.16548079 0.1742224  0.1713763  0.17300264 0.17157959 0.17767839\n",
      " 0.18459036 0.18702988 0.18987599 0.19109575 0.18581012 0.17015654\n",
      " 0.16751372 0.16974995 0.16609067 0.15531612 0.15003049 0.15064037\n",
      " 0.14860744 0.14596463 0.15043708 0.14413499 0.12441553 0.12827811\n",
      " 0.11547062 0.12034966 0.13478349 0.13498679 0.12868469 0.13295385\n",
      " 0.12807481 0.12624517 0.13051433 0.13905265 0.14718439 0.15104696\n",
      " 0.14515145 0.14311852 0.15816223 0.15328319 0.14921732 0.15531612\n",
      " 0.15917869 0.15938199 0.16344786 0.16482727 0.1672063  0.16937774\n",
      " 0.17147338 0.17351992 0.1755233  0.17748968 0.17942537 0.1813361\n",
      " 0.18322672 0.18510102 0.18696207 0.18881214 0.19065271 0.19248539\n",
      " 0.19431083 0.19612975 0.19794269 0.19975013]\n",
      "19 day output [[0.20155242]]\n",
      "20 day input [0.20309006 0.18479366 0.17930474 0.1896727  0.17483228 0.17849156\n",
      " 0.17645863 0.18540354 0.18377719 0.19190892 0.18987599 0.19028258\n",
      " 0.19394186 0.20004066 0.19638138 0.19495832 0.20349665 0.19597479\n",
      " 0.21162838 0.22036999 0.20979874 0.21528766 0.21589754 0.21610083\n",
      " 0.22748526 0.19150234 0.1833706  0.17340923 0.16751372 0.1622281\n",
      " 0.17056312 0.17462899 0.17930474 0.18174426 0.16853019 0.16548079\n",
      " 0.1742224  0.1713763  0.17300264 0.17157959 0.17767839 0.18459036\n",
      " 0.18702988 0.18987599 0.19109575 0.18581012 0.17015654 0.16751372\n",
      " 0.16974995 0.16609067 0.15531612 0.15003049 0.15064037 0.14860744\n",
      " 0.14596463 0.15043708 0.14413499 0.12441553 0.12827811 0.11547062\n",
      " 0.12034966 0.13478349 0.13498679 0.12868469 0.13295385 0.12807481\n",
      " 0.12624517 0.13051433 0.13905265 0.14718439 0.15104696 0.14515145\n",
      " 0.14311852 0.15816223 0.15328319 0.14921732 0.15531612 0.15917869\n",
      " 0.15938199 0.16344786 0.16482727 0.1672063  0.16937774 0.17147338\n",
      " 0.17351992 0.1755233  0.17748968 0.17942537 0.1813361  0.18322672\n",
      " 0.18510102 0.18696207 0.18881214 0.19065271 0.19248539 0.19431083\n",
      " 0.19612975 0.19794269 0.19975013 0.20155242]\n",
      "20 day output [[0.20334986]]\n",
      "21 day input [0.18479366 0.17930474 0.1896727  0.17483228 0.17849156 0.17645863\n",
      " 0.18540354 0.18377719 0.19190892 0.18987599 0.19028258 0.19394186\n",
      " 0.20004066 0.19638138 0.19495832 0.20349665 0.19597479 0.21162838\n",
      " 0.22036999 0.20979874 0.21528766 0.21589754 0.21610083 0.22748526\n",
      " 0.19150234 0.1833706  0.17340923 0.16751372 0.1622281  0.17056312\n",
      " 0.17462899 0.17930474 0.18174426 0.16853019 0.16548079 0.1742224\n",
      " 0.1713763  0.17300264 0.17157959 0.17767839 0.18459036 0.18702988\n",
      " 0.18987599 0.19109575 0.18581012 0.17015654 0.16751372 0.16974995\n",
      " 0.16609067 0.15531612 0.15003049 0.15064037 0.14860744 0.14596463\n",
      " 0.15043708 0.14413499 0.12441553 0.12827811 0.11547062 0.12034966\n",
      " 0.13478349 0.13498679 0.12868469 0.13295385 0.12807481 0.12624517\n",
      " 0.13051433 0.13905265 0.14718439 0.15104696 0.14515145 0.14311852\n",
      " 0.15816223 0.15328319 0.14921732 0.15531612 0.15917869 0.15938199\n",
      " 0.16344786 0.16482727 0.1672063  0.16937774 0.17147338 0.17351992\n",
      " 0.1755233  0.17748968 0.17942537 0.1813361  0.18322672 0.18510102\n",
      " 0.18696207 0.18881214 0.19065271 0.19248539 0.19431083 0.19612975\n",
      " 0.19794269 0.19975013 0.20155242 0.20334986]\n",
      "21 day output [[0.20514289]]\n",
      "22 day input [0.17930474 0.1896727  0.17483228 0.17849156 0.17645863 0.18540354\n",
      " 0.18377719 0.19190892 0.18987599 0.19028258 0.19394186 0.20004066\n",
      " 0.19638138 0.19495832 0.20349665 0.19597479 0.21162838 0.22036999\n",
      " 0.20979874 0.21528766 0.21589754 0.21610083 0.22748526 0.19150234\n",
      " 0.1833706  0.17340923 0.16751372 0.1622281  0.17056312 0.17462899\n",
      " 0.17930474 0.18174426 0.16853019 0.16548079 0.1742224  0.1713763\n",
      " 0.17300264 0.17157959 0.17767839 0.18459036 0.18702988 0.18987599\n",
      " 0.19109575 0.18581012 0.17015654 0.16751372 0.16974995 0.16609067\n",
      " 0.15531612 0.15003049 0.15064037 0.14860744 0.14596463 0.15043708\n",
      " 0.14413499 0.12441553 0.12827811 0.11547062 0.12034966 0.13478349\n",
      " 0.13498679 0.12868469 0.13295385 0.12807481 0.12624517 0.13051433\n",
      " 0.13905265 0.14718439 0.15104696 0.14515145 0.14311852 0.15816223\n",
      " 0.15328319 0.14921732 0.15531612 0.15917869 0.15938199 0.16344786\n",
      " 0.16482727 0.1672063  0.16937774 0.17147338 0.17351992 0.1755233\n",
      " 0.17748968 0.17942537 0.1813361  0.18322672 0.18510102 0.18696207\n",
      " 0.18881214 0.19065271 0.19248539 0.19431083 0.19612975 0.19794269\n",
      " 0.19975013 0.20155242 0.20334986 0.20514289]\n",
      "22 day output [[0.20693219]]\n",
      "23 day input [0.1896727  0.17483228 0.17849156 0.17645863 0.18540354 0.18377719\n",
      " 0.19190892 0.18987599 0.19028258 0.19394186 0.20004066 0.19638138\n",
      " 0.19495832 0.20349665 0.19597479 0.21162838 0.22036999 0.20979874\n",
      " 0.21528766 0.21589754 0.21610083 0.22748526 0.19150234 0.1833706\n",
      " 0.17340923 0.16751372 0.1622281  0.17056312 0.17462899 0.17930474\n",
      " 0.18174426 0.16853019 0.16548079 0.1742224  0.1713763  0.17300264\n",
      " 0.17157959 0.17767839 0.18459036 0.18702988 0.18987599 0.19109575\n",
      " 0.18581012 0.17015654 0.16751372 0.16974995 0.16609067 0.15531612\n",
      " 0.15003049 0.15064037 0.14860744 0.14596463 0.15043708 0.14413499\n",
      " 0.12441553 0.12827811 0.11547062 0.12034966 0.13478349 0.13498679\n",
      " 0.12868469 0.13295385 0.12807481 0.12624517 0.13051433 0.13905265\n",
      " 0.14718439 0.15104696 0.14515145 0.14311852 0.15816223 0.15328319\n",
      " 0.14921732 0.15531612 0.15917869 0.15938199 0.16344786 0.16482727\n",
      " 0.1672063  0.16937774 0.17147338 0.17351992 0.1755233  0.17748968\n",
      " 0.17942537 0.1813361  0.18322672 0.18510102 0.18696207 0.18881214\n",
      " 0.19065271 0.19248539 0.19431083 0.19612975 0.19794269 0.19975013\n",
      " 0.20155242 0.20334986 0.20514289 0.20693219]\n",
      "23 day output [[0.208718]]\n",
      "24 day input [0.17483228 0.17849156 0.17645863 0.18540354 0.18377719 0.19190892\n",
      " 0.18987599 0.19028258 0.19394186 0.20004066 0.19638138 0.19495832\n",
      " 0.20349665 0.19597479 0.21162838 0.22036999 0.20979874 0.21528766\n",
      " 0.21589754 0.21610083 0.22748526 0.19150234 0.1833706  0.17340923\n",
      " 0.16751372 0.1622281  0.17056312 0.17462899 0.17930474 0.18174426\n",
      " 0.16853019 0.16548079 0.1742224  0.1713763  0.17300264 0.17157959\n",
      " 0.17767839 0.18459036 0.18702988 0.18987599 0.19109575 0.18581012\n",
      " 0.17015654 0.16751372 0.16974995 0.16609067 0.15531612 0.15003049\n",
      " 0.15064037 0.14860744 0.14596463 0.15043708 0.14413499 0.12441553\n",
      " 0.12827811 0.11547062 0.12034966 0.13478349 0.13498679 0.12868469\n",
      " 0.13295385 0.12807481 0.12624517 0.13051433 0.13905265 0.14718439\n",
      " 0.15104696 0.14515145 0.14311852 0.15816223 0.15328319 0.14921732\n",
      " 0.15531612 0.15917869 0.15938199 0.16344786 0.16482727 0.1672063\n",
      " 0.16937774 0.17147338 0.17351992 0.1755233  0.17748968 0.17942537\n",
      " 0.1813361  0.18322672 0.18510102 0.18696207 0.18881214 0.19065271\n",
      " 0.19248539 0.19431083 0.19612975 0.19794269 0.19975013 0.20155242\n",
      " 0.20334986 0.20514289 0.20693219 0.208718  ]\n",
      "24 day output [[0.21050116]]\n",
      "25 day input [0.17849156 0.17645863 0.18540354 0.18377719 0.19190892 0.18987599\n",
      " 0.19028258 0.19394186 0.20004066 0.19638138 0.19495832 0.20349665\n",
      " 0.19597479 0.21162838 0.22036999 0.20979874 0.21528766 0.21589754\n",
      " 0.21610083 0.22748526 0.19150234 0.1833706  0.17340923 0.16751372\n",
      " 0.1622281  0.17056312 0.17462899 0.17930474 0.18174426 0.16853019\n",
      " 0.16548079 0.1742224  0.1713763  0.17300264 0.17157959 0.17767839\n",
      " 0.18459036 0.18702988 0.18987599 0.19109575 0.18581012 0.17015654\n",
      " 0.16751372 0.16974995 0.16609067 0.15531612 0.15003049 0.15064037\n",
      " 0.14860744 0.14596463 0.15043708 0.14413499 0.12441553 0.12827811\n",
      " 0.11547062 0.12034966 0.13478349 0.13498679 0.12868469 0.13295385\n",
      " 0.12807481 0.12624517 0.13051433 0.13905265 0.14718439 0.15104696\n",
      " 0.14515145 0.14311852 0.15816223 0.15328319 0.14921732 0.15531612\n",
      " 0.15917869 0.15938199 0.16344786 0.16482727 0.1672063  0.16937774\n",
      " 0.17147338 0.17351992 0.1755233  0.17748968 0.17942537 0.1813361\n",
      " 0.18322672 0.18510102 0.18696207 0.18881214 0.19065271 0.19248539\n",
      " 0.19431083 0.19612975 0.19794269 0.19975013 0.20155242 0.20334986\n",
      " 0.20514289 0.20693219 0.208718   0.21050116]\n",
      "25 day output [[0.21228223]]\n",
      "26 day input [0.17645863 0.18540354 0.18377719 0.19190892 0.18987599 0.19028258\n",
      " 0.19394186 0.20004066 0.19638138 0.19495832 0.20349665 0.19597479\n",
      " 0.21162838 0.22036999 0.20979874 0.21528766 0.21589754 0.21610083\n",
      " 0.22748526 0.19150234 0.1833706  0.17340923 0.16751372 0.1622281\n",
      " 0.17056312 0.17462899 0.17930474 0.18174426 0.16853019 0.16548079\n",
      " 0.1742224  0.1713763  0.17300264 0.17157959 0.17767839 0.18459036\n",
      " 0.18702988 0.18987599 0.19109575 0.18581012 0.17015654 0.16751372\n",
      " 0.16974995 0.16609067 0.15531612 0.15003049 0.15064037 0.14860744\n",
      " 0.14596463 0.15043708 0.14413499 0.12441553 0.12827811 0.11547062\n",
      " 0.12034966 0.13478349 0.13498679 0.12868469 0.13295385 0.12807481\n",
      " 0.12624517 0.13051433 0.13905265 0.14718439 0.15104696 0.14515145\n",
      " 0.14311852 0.15816223 0.15328319 0.14921732 0.15531612 0.15917869\n",
      " 0.15938199 0.16344786 0.16482727 0.1672063  0.16937774 0.17147338\n",
      " 0.17351992 0.1755233  0.17748968 0.17942537 0.1813361  0.18322672\n",
      " 0.18510102 0.18696207 0.18881214 0.19065271 0.19248539 0.19431083\n",
      " 0.19612975 0.19794269 0.19975013 0.20155242 0.20334986 0.20514289\n",
      " 0.20693219 0.208718   0.21050116 0.21228223]\n",
      "26 day output [[0.21406183]]\n",
      "27 day input [0.18540354 0.18377719 0.19190892 0.18987599 0.19028258 0.19394186\n",
      " 0.20004066 0.19638138 0.19495832 0.20349665 0.19597479 0.21162838\n",
      " 0.22036999 0.20979874 0.21528766 0.21589754 0.21610083 0.22748526\n",
      " 0.19150234 0.1833706  0.17340923 0.16751372 0.1622281  0.17056312\n",
      " 0.17462899 0.17930474 0.18174426 0.16853019 0.16548079 0.1742224\n",
      " 0.1713763  0.17300264 0.17157959 0.17767839 0.18459036 0.18702988\n",
      " 0.18987599 0.19109575 0.18581012 0.17015654 0.16751372 0.16974995\n",
      " 0.16609067 0.15531612 0.15003049 0.15064037 0.14860744 0.14596463\n",
      " 0.15043708 0.14413499 0.12441553 0.12827811 0.11547062 0.12034966\n",
      " 0.13478349 0.13498679 0.12868469 0.13295385 0.12807481 0.12624517\n",
      " 0.13051433 0.13905265 0.14718439 0.15104696 0.14515145 0.14311852\n",
      " 0.15816223 0.15328319 0.14921732 0.15531612 0.15917869 0.15938199\n",
      " 0.16344786 0.16482727 0.1672063  0.16937774 0.17147338 0.17351992\n",
      " 0.1755233  0.17748968 0.17942537 0.1813361  0.18322672 0.18510102\n",
      " 0.18696207 0.18881214 0.19065271 0.19248539 0.19431083 0.19612975\n",
      " 0.19794269 0.19975013 0.20155242 0.20334986 0.20514289 0.20693219\n",
      " 0.208718   0.21050116 0.21228223 0.21406183]\n",
      "27 day output [[0.21584082]]\n",
      "28 day input [0.18377719 0.19190892 0.18987599 0.19028258 0.19394186 0.20004066\n",
      " 0.19638138 0.19495832 0.20349665 0.19597479 0.21162838 0.22036999\n",
      " 0.20979874 0.21528766 0.21589754 0.21610083 0.22748526 0.19150234\n",
      " 0.1833706  0.17340923 0.16751372 0.1622281  0.17056312 0.17462899\n",
      " 0.17930474 0.18174426 0.16853019 0.16548079 0.1742224  0.1713763\n",
      " 0.17300264 0.17157959 0.17767839 0.18459036 0.18702988 0.18987599\n",
      " 0.19109575 0.18581012 0.17015654 0.16751372 0.16974995 0.16609067\n",
      " 0.15531612 0.15003049 0.15064037 0.14860744 0.14596463 0.15043708\n",
      " 0.14413499 0.12441553 0.12827811 0.11547062 0.12034966 0.13478349\n",
      " 0.13498679 0.12868469 0.13295385 0.12807481 0.12624517 0.13051433\n",
      " 0.13905265 0.14718439 0.15104696 0.14515145 0.14311852 0.15816223\n",
      " 0.15328319 0.14921732 0.15531612 0.15917869 0.15938199 0.16344786\n",
      " 0.16482727 0.1672063  0.16937774 0.17147338 0.17351992 0.1755233\n",
      " 0.17748968 0.17942537 0.1813361  0.18322672 0.18510102 0.18696207\n",
      " 0.18881214 0.19065271 0.19248539 0.19431083 0.19612975 0.19794269\n",
      " 0.19975013 0.20155242 0.20334986 0.20514289 0.20693219 0.208718\n",
      " 0.21050116 0.21228223 0.21406183 0.21584082]\n",
      "28 day output [[0.21761999]]\n",
      "29 day input [0.19190892 0.18987599 0.19028258 0.19394186 0.20004066 0.19638138\n",
      " 0.19495832 0.20349665 0.19597479 0.21162838 0.22036999 0.20979874\n",
      " 0.21528766 0.21589754 0.21610083 0.22748526 0.19150234 0.1833706\n",
      " 0.17340923 0.16751372 0.1622281  0.17056312 0.17462899 0.17930474\n",
      " 0.18174426 0.16853019 0.16548079 0.1742224  0.1713763  0.17300264\n",
      " 0.17157959 0.17767839 0.18459036 0.18702988 0.18987599 0.19109575\n",
      " 0.18581012 0.17015654 0.16751372 0.16974995 0.16609067 0.15531612\n",
      " 0.15003049 0.15064037 0.14860744 0.14596463 0.15043708 0.14413499\n",
      " 0.12441553 0.12827811 0.11547062 0.12034966 0.13478349 0.13498679\n",
      " 0.12868469 0.13295385 0.12807481 0.12624517 0.13051433 0.13905265\n",
      " 0.14718439 0.15104696 0.14515145 0.14311852 0.15816223 0.15328319\n",
      " 0.14921732 0.15531612 0.15917869 0.15938199 0.16344786 0.16482727\n",
      " 0.1672063  0.16937774 0.17147338 0.17351992 0.1755233  0.17748968\n",
      " 0.17942537 0.1813361  0.18322672 0.18510102 0.18696207 0.18881214\n",
      " 0.19065271 0.19248539 0.19431083 0.19612975 0.19794269 0.19975013\n",
      " 0.20155242 0.20334986 0.20514289 0.20693219 0.208718   0.21050116\n",
      " 0.21228223 0.21406183 0.21584082 0.21761999]\n",
      "29 day output [[0.21939996]]\n",
      "[[0.16482727229595184], [0.1672063022851944], [0.16937774419784546], [0.17147338390350342], [0.17351992428302765], [0.1755232959985733], [0.17748968303203583], [0.17942537367343903], [0.18133610486984253], [0.18322671949863434], [0.18510101735591888], [0.1869620680809021], [0.18881213665008545], [0.19065271317958832], [0.19248539209365845], [0.19431082904338837], [0.19612975418567657], [0.19794268906116486], [0.1997501254081726], [0.20155242085456848], [0.20334985852241516], [0.20514288544654846], [0.2069321870803833], [0.20871800184249878], [0.21050116419792175], [0.2122822254896164], [0.21406182646751404], [0.21584081649780273], [0.21761998534202576], [0.21939995884895325]]\n"
     ]
    }
   ],
   "source": [
    "temp_input = list(x_input)\n",
    "temp_input = temp_input[0].tolist()\n",
    "\n",
    "lst_output=[]\n",
    "n_steps=100\n",
    "nextNumberOfDays = 30\n",
    "i=0\n",
    "\n",
    "while(i<nextNumberOfDays):\n",
    "    \n",
    "    if(len(temp_input)>100):\n",
    "        x_input=np.array(temp_input[1:])\n",
    "        print(\"{} day input {}\".format(i,x_input))\n",
    "        x_input=x_input.reshape(1,-1)\n",
    "        x_input = x_input.reshape((1, n_steps, 1))\n",
    "        yhat = model.predict(x_input, verbose=0)\n",
    "        print(\"{} day output {}\".format(i,yhat))\n",
    "        temp_input.extend(yhat[0].tolist())\n",
    "        temp_input=temp_input[1:]\n",
    "        lst_output.extend(yhat.tolist())\n",
    "        i=i+1\n",
    "    else:\n",
    "        x_input = x_input.reshape((1, n_steps,1))\n",
    "        yhat = model.predict(x_input, verbose=0)\n",
    "        print(yhat[0])\n",
    "        temp_input.extend(yhat[0].tolist())\n",
    "        print(len(temp_input))\n",
    "        lst_output.extend(yhat.tolist())\n",
    "        i=i+1\n",
    "    \n",
    "print(lst_output)"
   ]
  },
  {
   "cell_type": "code",
   "execution_count": 43,
   "id": "d703daa6",
   "metadata": {},
   "outputs": [],
   "source": [
    "day_new = np.arange(1,101)\n",
    "day_pred = np.arange(101,131)"
   ]
  },
  {
   "cell_type": "code",
   "execution_count": 44,
   "id": "1646f5d7",
   "metadata": {},
   "outputs": [
    {
     "data": {
      "text/plain": [
       "(100,)"
      ]
     },
     "execution_count": 44,
     "metadata": {},
     "output_type": "execute_result"
    }
   ],
   "source": [
    "day_new.shape"
   ]
  },
  {
   "cell_type": "code",
   "execution_count": 45,
   "id": "0bce0bd5",
   "metadata": {},
   "outputs": [
    {
     "data": {
      "text/plain": [
       "(30,)"
      ]
     },
     "execution_count": 45,
     "metadata": {},
     "output_type": "execute_result"
    }
   ],
   "source": [
    "day_pred.shape"
   ]
  },
  {
   "cell_type": "code",
   "execution_count": 46,
   "id": "ac5534d2",
   "metadata": {},
   "outputs": [
    {
     "data": {
      "text/plain": [
       "2035"
      ]
     },
     "execution_count": 46,
     "metadata": {},
     "output_type": "execute_result"
    }
   ],
   "source": [
    "len(stock_high)"
   ]
  },
  {
   "cell_type": "markdown",
   "id": "6f6002e7",
   "metadata": {},
   "source": [
    "#### i take 1935 as i told taking previous 100 days data"
   ]
  },
  {
   "cell_type": "code",
   "execution_count": 47,
   "id": "be9ae10f",
   "metadata": {},
   "outputs": [
    {
     "data": {
      "text/plain": [
       "[<matplotlib.lines.Line2D at 0x29ae0477400>]"
      ]
     },
     "execution_count": 47,
     "metadata": {},
     "output_type": "execute_result"
    },
    {
     "data": {
      "image/png": "[encoded data removed]",
      "text/plain": [
       "<Figure size 640x480 with 1 Axes>"
      ]
     },
     "metadata": {},
     "output_type": "display_data"
    }
   ],
   "source": [
    "plt.plot(day_new, scaler.inverse_transform(stock_high[1935:]))\n",
    "plt.plot(day_pred, scaler.inverse_transform(lst_output))"
   ]
  },
  {
   "cell_type": "markdown",
   "id": "ecaa5a81",
   "metadata": {},
   "source": [
    "### orange line shows the predection of next 30 days."
   ]
  },
  {
   "cell_type": "markdown",
   "id": "9792debc",
   "metadata": {},
   "source": [
    "# End"
   ]
  },
  {
   "cell_type": "markdown",
   "id": "e00c57b0",
   "metadata": {},
   "source": [
    "## thanks for watching"
   ]
  }
 ],
 "metadata": {
  "kernelspec": {
   "display_name": "Python 3 (ipykernel)",
   "language": "python",
   "name": "python3"
  },
  "language_info": {
   "codemirror_mode": {
    "name": "ipython",
    "version": 3
   },
   "file_extension": ".py",
   "mimetype": "text/x-python",
   "name": "python",
   "nbconvert_exporter": "python",
   "pygments_lexer": "ipython3",
   "version": "3.9.13"
  }
 },
 "nbformat": 4,
 "nbformat_minor": 5
}
